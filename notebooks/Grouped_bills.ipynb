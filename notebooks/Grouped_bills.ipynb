{
 "cells": [
  {
   "cell_type": "code",
   "execution_count": 1,
   "metadata": {},
   "outputs": [],
   "source": [
    "import pandas as pd\n",
    "import csv\n",
    "import time"
   ]
  },
  {
   "cell_type": "code",
   "execution_count": 2,
   "metadata": {},
   "outputs": [],
   "source": [
    "def rearrange_csv_columns(path):\n",
    "    new_path = '/'.join(path.split('/')[:-1]) + '/new_' + path.split('/')[-1]\n",
    "    num_of_cols = 35\n",
    "    prob_col =  11\n",
    "    prob_string_list = [' Jr.\"' , ' Jr.']\n",
    "     \n",
    "    with open(path, \"r\") as f_in, open(new_path, \"w\") as f_out:\n",
    "        reader = csv.reader(f_in)\n",
    "        writer = csv.writer(f_out)\n",
    "        for row in reader:\n",
    "            if len(row) == num_of_cols + 1:\n",
    "                assert row[prob_col] in prob_string_list, row[prob_col] + ' -> id:' + str(row[0])\n",
    "                new_row[:prob_col-1] = row[:prob_col-1]\n",
    "                new_row[prob_col-1] = row[prob_col-1] + row[prob_col]\n",
    "                new_row[prob_col:] = row[prob_col+1:]\n",
    "            else:\n",
    "                new_row = row\n",
    "\n",
    "            writer.writerow(new_row)\n",
    "\n",
    "    f_in.close()\n",
    "    f_out.close()\n",
    "    \n",
    "    return new_path"
   ]
  },
  {
   "cell_type": "code",
   "execution_count": 3,
   "metadata": {},
   "outputs": [],
   "source": [
    "# subjects 11, 22 are missing => 21 subjects in total\n",
    "subjects_dict = dict()\n",
    "with open('project/app/data/policy_agenda.csv', \"r\") as f_in:\n",
    "    reader = csv.reader(f_in)\n",
    "    for row in reader:\n",
    "        subjects_dict[float(row[0])] = row[1]\n",
    "    f_in.close()"
   ]
  },
  {
   "cell_type": "markdown",
   "metadata": {},
   "source": [
    "##### outer bills file"
   ]
  },
  {
   "cell_type": "code",
   "execution_count": 4,
   "metadata": {},
   "outputs": [],
   "source": [
    "# _ = rearrange_csv_columns('data/bills/bills.csv')\n",
    "# bills = pd.read_csv('data/bills/new_bills.csv')"
   ]
  },
  {
   "cell_type": "code",
   "execution_count": 5,
   "metadata": {},
   "outputs": [],
   "source": [
    "# print(bills.shape)\n",
    "# print(bills.columns)\n",
    "# bills.Cong.unique()"
   ]
  },
  {
   "cell_type": "markdown",
   "metadata": {},
   "source": [
    "##### inner bills file"
   ]
  },
  {
   "cell_type": "code",
   "execution_count": 6,
   "metadata": {},
   "outputs": [
    {
     "name": "stderr",
     "output_type": "stream",
     "text": [
      "/home/foivos/anaconda3/lib/python3.7/site-packages/IPython/core/interactiveshell.py:2785: DtypeWarning: Columns (8,17,33) have mixed types. Specify dtype option on import or set low_memory=False.\n",
      "  interactivity=interactivity, compiler=compiler, result=result)\n"
     ]
    }
   ],
   "source": [
    "# _ = rearrange_csv_columns('data/bills/data/congress/output/bills.csv')\n",
    "bills = pd.read_csv('data/bills/data/congress/output/new_bills.csv')"
   ]
  },
  {
   "cell_type": "code",
   "execution_count": 7,
   "metadata": {},
   "outputs": [
    {
     "name": "stdout",
     "output_type": "stream",
     "text": [
      "(292868, 35)\n",
      "Index(['idNEW', 'idOLD', 'BillNum', 'BillType', 'Cong', 'IntrDate',\n",
      "       'ShortTitle', 'OfficialTitle', 'PopTitle', 'SpThomasID', 'SpName',\n",
      "       'SpState', 'SpDist', 'UpdatedAt', 'CoSpThID', 'PLawNo', 'MinorBill',\n",
      "       'PLawNoFull', 'compLaw', 'Major', 'Minor', 'ChRef', 'RankRef', 'MemRef',\n",
      "       'SubChRef', 'SubRankRef', 'ImpBill', 'URL', 'isBill', 'Majority',\n",
      "       'Senate', 'LeadRef', 'SpParty', 'commRefs', 'timestamp'],\n",
      "      dtype='object')\n"
     ]
    },
    {
     "data": {
      "text/plain": [
       "array([ 93,  94,  95,  96,  97,  98,  99, 100, 101, 102, 103, 104, 105,\n",
       "       106, 107, 108, 109, 110, 111, 112, 113, 114])"
      ]
     },
     "execution_count": 7,
     "metadata": {},
     "output_type": "execute_result"
    }
   ],
   "source": [
    "print(bills.shape)\n",
    "print(bills.columns)\n",
    "bills.Cong.unique()"
   ]
  },
  {
   "cell_type": "code",
   "execution_count": 8,
   "metadata": {},
   "outputs": [],
   "source": [
    "BILL_COLUMNS = ['idNEW', 'Cong', 'SpParty', 'Major', 'SpState']\n",
    "bills = bills[BILL_COLUMNS]"
   ]
  },
  {
   "cell_type": "code",
   "execution_count": 9,
   "metadata": {},
   "outputs": [
    {
     "name": "stdout",
     "output_type": "stream",
     "text": [
      "(292868, 5)\n",
      "Index(['idNEW', 'Cong', 'SpParty', 'Major', 'SpState'], dtype='object')\n"
     ]
    },
    {
     "data": {
      "text/html": [
       "<div>\n",
       "<style scoped>\n",
       "    .dataframe tbody tr th:only-of-type {\n",
       "        vertical-align: middle;\n",
       "    }\n",
       "\n",
       "    .dataframe tbody tr th {\n",
       "        vertical-align: top;\n",
       "    }\n",
       "\n",
       "    .dataframe thead th {\n",
       "        text-align: right;\n",
       "    }\n",
       "</style>\n",
       "<table border=\"1\" class=\"dataframe\">\n",
       "  <thead>\n",
       "    <tr style=\"text-align: right;\">\n",
       "      <th></th>\n",
       "      <th>idNEW</th>\n",
       "      <th>Cong</th>\n",
       "      <th>SpParty</th>\n",
       "      <th>Major</th>\n",
       "      <th>SpState</th>\n",
       "    </tr>\n",
       "  </thead>\n",
       "  <tbody>\n",
       "    <tr>\n",
       "      <th>0</th>\n",
       "      <td>1</td>\n",
       "      <td>93</td>\n",
       "      <td>D</td>\n",
       "      <td>20.0</td>\n",
       "      <td>IL</td>\n",
       "    </tr>\n",
       "  </tbody>\n",
       "</table>\n",
       "</div>"
      ],
      "text/plain": [
       "   idNEW  Cong SpParty  Major SpState\n",
       "0      1    93       D   20.0      IL"
      ]
     },
     "execution_count": 9,
     "metadata": {},
     "output_type": "execute_result"
    }
   ],
   "source": [
    "print(bills.shape)\n",
    "print(bills.columns)\n",
    "bills.head(1)"
   ]
  },
  {
   "cell_type": "code",
   "execution_count": 10,
   "metadata": {},
   "outputs": [
    {
     "data": {
      "text/plain": [
       "array(['Government Operations', 'Education', 'Agriculture', 'Defense',\n",
       "       'Macroeconomics', 'Housing', 'Environment', 'Labor', 'Technology',\n",
       "       'Social Welfare', 'Transportation', 'Public Lands', 'Civil Rights',\n",
       "       'Domestic Commerce', 'Health', 'Law and Crime', 'Other', 'Energy',\n",
       "       'Foreign Trade', 'International Affairs', 'Immigration'],\n",
       "      dtype=object)"
      ]
     },
     "execution_count": 10,
     "metadata": {},
     "output_type": "execute_result"
    }
   ],
   "source": [
    "bills['Major'] = bills['Major'].map(subjects_dict) \n",
    "bills['Major'].fillna('Other', inplace=True)\n",
    "bills.Major.unique()"
   ]
  },
  {
   "cell_type": "markdown",
   "metadata": {},
   "source": [
    "### Grouping"
   ]
  },
  {
   "cell_type": "code",
   "execution_count": 11,
   "metadata": {},
   "outputs": [],
   "source": [
    "grouped_bills = bills.groupby(BILL_COLUMNS[1:]).size()"
   ]
  },
  {
   "cell_type": "code",
   "execution_count": 12,
   "metadata": {},
   "outputs": [
    {
     "data": {
      "text/plain": [
       "Cong  SpParty  Major        SpState\n",
       "93    D        Agriculture  AL         1\n",
       "dtype: int64"
      ]
     },
     "execution_count": 12,
     "metadata": {},
     "output_type": "execute_result"
    }
   ],
   "source": [
    "grouped_bills.head(1)"
   ]
  },
  {
   "cell_type": "code",
   "execution_count": 13,
   "metadata": {},
   "outputs": [],
   "source": [
    "with open('project/app/data/grouped_bills.csv', \"w\") as f_out:\n",
    "    writer = csv.writer(f_out)    \n",
    "    writer.writerow(['congress', 'party', 'major', 'state', 'count'])\n",
    "    for index, value in grouped_bills.iteritems():\n",
    "        writer.writerow([index[0], index[1], index[2], index[3], value])        \n",
    "    f_out.close()"
   ]
  },
  {
   "cell_type": "code",
   "execution_count": null,
   "metadata": {},
   "outputs": [],
   "source": []
  },
  {
   "cell_type": "code",
   "execution_count": null,
   "metadata": {},
   "outputs": [],
   "source": []
  }
 ],
 "metadata": {
  "kernelspec": {
   "display_name": "Python 3",
   "language": "python",
   "name": "python3"
  },
  "language_info": {
   "codemirror_mode": {
    "name": "ipython",
    "version": 3
   },
   "file_extension": ".py",
   "mimetype": "text/x-python",
   "name": "python",
   "nbconvert_exporter": "python",
   "pygments_lexer": "ipython3",
   "version": "3.7.0"
  }
 },
 "nbformat": 4,
 "nbformat_minor": 2
}
