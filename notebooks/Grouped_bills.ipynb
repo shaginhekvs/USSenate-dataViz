{
 "cells": [
  {
   "cell_type": "code",
   "execution_count": 1,
   "metadata": {},
   "outputs": [],
   "source": [
    "import pandas as pd\n",
    "import csv\n",
    "import time\n",
    "import math\n",
    "import re"
   ]
  },
  {
   "cell_type": "code",
   "execution_count": 2,
   "metadata": {},
   "outputs": [],
   "source": [
    "def replace_chars(row, column_name):\n",
    "    return re.sub('[,;]', ' ', row[column_name])"
   ]
  },
  {
   "cell_type": "code",
   "execution_count": 3,
   "metadata": {},
   "outputs": [],
   "source": [
    "def rearrange_csv_columns(path):\n",
    "    new_path = '/'.join(path.split('/')[:-1]) + '/new_' + path.split('/')[-1]\n",
    "    num_of_cols = 35\n",
    "    prob_col =  11\n",
    "    prob_string_list = [' Jr.\"' , ' Jr.']\n",
    "     \n",
    "    with open(path, \"r\") as f_in, open(new_path, \"w\") as f_out:\n",
    "        reader = csv.reader(f_in)\n",
    "        writer = csv.writer(f_out)\n",
    "        for row in reader:\n",
    "            if len(row) == num_of_cols + 1:\n",
    "                assert row[prob_col] in prob_string_list, row[prob_col] + ' -> id:' + str(row[0])\n",
    "                new_row[:prob_col-1] = row[:prob_col-1]\n",
    "                new_row[prob_col-1] = row[prob_col-1] + row[prob_col]\n",
    "                new_row[prob_col:] = row[prob_col+1:]\n",
    "            else:\n",
    "                new_row = row\n",
    "\n",
    "            writer.writerow(new_row)\n",
    "\n",
    "    f_in.close()\n",
    "    f_out.close()\n",
    "    \n",
    "    return new_path"
   ]
  },
  {
   "cell_type": "code",
   "execution_count": 4,
   "metadata": {},
   "outputs": [],
   "source": [
    "# subjects 11, 22 are missing => 21 subjects in total\n",
    "subjects_dict = dict()\n",
    "with open('../data/policy_agenda.csv', \"r\") as f_in:\n",
    "    reader = csv.reader(f_in)\n",
    "    for row in reader:\n",
    "        subjects_dict[float(row[0])] = row[1]\n",
    "    f_in.close()"
   ]
  },
  {
   "cell_type": "markdown",
   "metadata": {},
   "source": [
    "##### inner bills file"
   ]
  },
  {
   "cell_type": "code",
   "execution_count": 5,
   "metadata": {},
   "outputs": [],
   "source": [
    "# _ = rearrange_csv_columns('data/bills.csv')\n",
    "bills_initial = pd.read_csv('../data/new_bills.csv', low_memory=False)"
   ]
  },
  {
   "cell_type": "code",
   "execution_count": 6,
   "metadata": {},
   "outputs": [],
   "source": [
    "bills_initial = bills_initial[ bills_initial['isBill'] == 1]"
   ]
  },
  {
   "cell_type": "code",
   "execution_count": 7,
   "metadata": {
    "scrolled": true
   },
   "outputs": [
    {
     "name": "stdout",
     "output_type": "stream",
     "text": [
      "(236317, 35)\n",
      "Index(['idNEW', 'idOLD', 'BillNum', 'BillType', 'Cong', 'IntrDate',\n",
      "       'ShortTitle', 'OfficialTitle', 'PopTitle', 'SpThomasID', 'SpName',\n",
      "       'SpState', 'SpDist', 'UpdatedAt', 'CoSpThID', 'PLawNo', 'MinorBill',\n",
      "       'PLawNoFull', 'compLaw', 'Major', 'Minor', 'ChRef', 'RankRef', 'MemRef',\n",
      "       'SubChRef', 'SubRankRef', 'ImpBill', 'URL', 'isBill', 'Majority',\n",
      "       'Senate', 'LeadRef', 'SpParty', 'commRefs', 'timestamp'],\n",
      "      dtype='object')\n",
      "[ 93  94  95  96  97  98  99 100 101 102 103 104 105 106 107 108 109 110\n",
      " 111 112 113 114]\n",
      "[20.  6.  4. 16.  1. 14.  7.  5. 17. 13. 10. 21.  2. 15.  3. 12. 99.  8.\n",
      " 18. 19.  9. nan]\n"
     ]
    }
   ],
   "source": [
    "print(bills_initial.shape)\n",
    "print(bills_initial.columns)\n",
    "print(bills_initial.Cong.unique())\n",
    "print(bills_initial.Major.unique())"
   ]
  },
  {
   "cell_type": "code",
   "execution_count": 8,
   "metadata": {},
   "outputs": [],
   "source": [
    "BILL_COLUMNS = ['Cong', 'SpParty', 'Major', 'SpState', 'idNEW', 'URL', 'OfficialTitle']\n",
    "# bills_initial = bills_initial[BILL_COLUMNS]"
   ]
  },
  {
   "cell_type": "code",
   "execution_count": 9,
   "metadata": {},
   "outputs": [],
   "source": [
    "bills = pd.DataFrame(index=bills_initial.index)\n",
    "bills[BILL_COLUMNS] = bills_initial[BILL_COLUMNS]\n",
    "bills['Major'] = bills_initial['Major'].map(subjects_dict) \n",
    "bills['Major'].fillna('Other', inplace=True)"
   ]
  },
  {
   "cell_type": "code",
   "execution_count": 10,
   "metadata": {},
   "outputs": [
    {
     "name": "stdout",
     "output_type": "stream",
     "text": [
      "(236317, 7)\n",
      "Index(['Cong', 'SpParty', 'Major', 'SpState', 'idNEW', 'URL', 'OfficialTitle'], dtype='object')\n"
     ]
    },
    {
     "data": {
      "text/html": [
       "<div>\n",
       "<style scoped>\n",
       "    .dataframe tbody tr th:only-of-type {\n",
       "        vertical-align: middle;\n",
       "    }\n",
       "\n",
       "    .dataframe tbody tr th {\n",
       "        vertical-align: top;\n",
       "    }\n",
       "\n",
       "    .dataframe thead th {\n",
       "        text-align: right;\n",
       "    }\n",
       "</style>\n",
       "<table border=\"1\" class=\"dataframe\">\n",
       "  <thead>\n",
       "    <tr style=\"text-align: right;\">\n",
       "      <th></th>\n",
       "      <th>Cong</th>\n",
       "      <th>SpParty</th>\n",
       "      <th>Major</th>\n",
       "      <th>SpState</th>\n",
       "      <th>idNEW</th>\n",
       "      <th>URL</th>\n",
       "      <th>OfficialTitle</th>\n",
       "    </tr>\n",
       "  </thead>\n",
       "  <tbody>\n",
       "    <tr>\n",
       "      <th>0</th>\n",
       "      <td>93</td>\n",
       "      <td>D</td>\n",
       "      <td>Government Operations</td>\n",
       "      <td>IL</td>\n",
       "      <td>1</td>\n",
       "      <td>http://beta.congress.gov/bill/93th-congress/ho...</td>\n",
       "      <td>A bill to provide for the establishment of an ...</td>\n",
       "    </tr>\n",
       "  </tbody>\n",
       "</table>\n",
       "</div>"
      ],
      "text/plain": [
       "   Cong SpParty                  Major SpState  idNEW  \\\n",
       "0    93       D  Government Operations      IL      1   \n",
       "\n",
       "                                                 URL  \\\n",
       "0  http://beta.congress.gov/bill/93th-congress/ho...   \n",
       "\n",
       "                                       OfficialTitle  \n",
       "0  A bill to provide for the establishment of an ...  "
      ]
     },
     "execution_count": 10,
     "metadata": {},
     "output_type": "execute_result"
    }
   ],
   "source": [
    "print(bills.shape)\n",
    "print(bills.columns)\n",
    "bills.head(1)"
   ]
  },
  {
   "cell_type": "markdown",
   "metadata": {},
   "source": [
    "### Actions"
   ]
  },
  {
   "cell_type": "code",
   "execution_count": 11,
   "metadata": {},
   "outputs": [
    {
     "name": "stdout",
     "output_type": "stream",
     "text": [
      "(828172, 14)\n",
      "Index(['billID', 'bill', 'cong', 'billtype', 'acted_at', 'loc', 'status',\n",
      "       'actno', 'subbill', 'phrase', 'manUpdate', 'goodDate', 'timestamp',\n",
      "       'actionID'],\n",
      "      dtype='object')\n",
      "['INT' 'COMM' 'REP' 'PASSO' 'PASSB' 'WAIT' 'SIGN' 'LAW' 'PASS' 'DISC'\n",
      " 'CREP' 'VETO' 'RESA' 'RULP' 'CAL' 'PASSC' 'CONF' 'PASSV2' 'CONS' 'PASSV']\n"
     ]
    }
   ],
   "source": [
    "actions = pd.read_csv('../data/actions.csv', low_memory=False)\n",
    "\n",
    "print(actions.shape)\n",
    "print(actions.columns)\n",
    "print(actions.status.unique())"
   ]
  },
  {
   "cell_type": "code",
   "execution_count": 12,
   "metadata": {},
   "outputs": [],
   "source": [
    "bills = pd.merge(bills, actions[['status']], left_index=True, right_index=True)"
   ]
  },
  {
   "cell_type": "code",
   "execution_count": 13,
   "metadata": {},
   "outputs": [
    {
     "name": "stdout",
     "output_type": "stream",
     "text": [
      "(236317, 8)\n",
      "Index(['Cong', 'SpParty', 'Major', 'SpState', 'idNEW', 'URL', 'OfficialTitle',\n",
      "       'status'],\n",
      "      dtype='object')\n"
     ]
    },
    {
     "data": {
      "text/html": [
       "<div>\n",
       "<style scoped>\n",
       "    .dataframe tbody tr th:only-of-type {\n",
       "        vertical-align: middle;\n",
       "    }\n",
       "\n",
       "    .dataframe tbody tr th {\n",
       "        vertical-align: top;\n",
       "    }\n",
       "\n",
       "    .dataframe thead th {\n",
       "        text-align: right;\n",
       "    }\n",
       "</style>\n",
       "<table border=\"1\" class=\"dataframe\">\n",
       "  <thead>\n",
       "    <tr style=\"text-align: right;\">\n",
       "      <th></th>\n",
       "      <th>Cong</th>\n",
       "      <th>SpParty</th>\n",
       "      <th>Major</th>\n",
       "      <th>SpState</th>\n",
       "      <th>idNEW</th>\n",
       "      <th>URL</th>\n",
       "      <th>OfficialTitle</th>\n",
       "      <th>status</th>\n",
       "    </tr>\n",
       "  </thead>\n",
       "  <tbody>\n",
       "    <tr>\n",
       "      <th>0</th>\n",
       "      <td>93</td>\n",
       "      <td>D</td>\n",
       "      <td>Government Operations</td>\n",
       "      <td>IL</td>\n",
       "      <td>1</td>\n",
       "      <td>http://beta.congress.gov/bill/93th-congress/ho...</td>\n",
       "      <td>A bill to provide for the establishment of an ...</td>\n",
       "      <td>INT</td>\n",
       "    </tr>\n",
       "  </tbody>\n",
       "</table>\n",
       "</div>"
      ],
      "text/plain": [
       "   Cong SpParty                  Major SpState  idNEW  \\\n",
       "0    93       D  Government Operations      IL      1   \n",
       "\n",
       "                                                 URL  \\\n",
       "0  http://beta.congress.gov/bill/93th-congress/ho...   \n",
       "\n",
       "                                       OfficialTitle status  \n",
       "0  A bill to provide for the establishment of an ...    INT  "
      ]
     },
     "execution_count": 13,
     "metadata": {},
     "output_type": "execute_result"
    }
   ],
   "source": [
    "print(bills.shape)\n",
    "print(bills.columns)\n",
    "bills.head(1)"
   ]
  },
  {
   "cell_type": "code",
   "execution_count": 14,
   "metadata": {},
   "outputs": [],
   "source": [
    "def define_status(row):\n",
    "    if row['status'] == 'LAW' :\n",
    "        return 'passed'\n",
    "    else:\n",
    "        return 'not_passed'"
   ]
  },
  {
   "cell_type": "code",
   "execution_count": 15,
   "metadata": {},
   "outputs": [],
   "source": [
    "bills['status'] = bills.apply(lambda row: define_status(row),axis=1)"
   ]
  },
  {
   "cell_type": "code",
   "execution_count": 16,
   "metadata": {},
   "outputs": [
    {
     "data": {
      "text/plain": [
       "array(['not_passed', 'passed'], dtype=object)"
      ]
     },
     "execution_count": 16,
     "metadata": {},
     "output_type": "execute_result"
    }
   ],
   "source": [
    "bills['status'].unique()"
   ]
  },
  {
   "cell_type": "code",
   "execution_count": 17,
   "metadata": {},
   "outputs": [],
   "source": [
    "bills.rename(columns={'Cong':'congress', 'SpParty':'party', 'Major':'major', 'SpState':'state', \n",
    "                      'URL':'url', 'OfficialTitle':'title'}, inplace=True)"
   ]
  },
  {
   "cell_type": "code",
   "execution_count": 18,
   "metadata": {},
   "outputs": [
    {
     "name": "stdout",
     "output_type": "stream",
     "text": [
      "(236317, 8)\n",
      "Index(['congress', 'party', 'major', 'state', 'idNEW', 'url', 'title',\n",
      "       'status'],\n",
      "      dtype='object')\n"
     ]
    },
    {
     "data": {
      "text/html": [
       "<div>\n",
       "<style scoped>\n",
       "    .dataframe tbody tr th:only-of-type {\n",
       "        vertical-align: middle;\n",
       "    }\n",
       "\n",
       "    .dataframe tbody tr th {\n",
       "        vertical-align: top;\n",
       "    }\n",
       "\n",
       "    .dataframe thead th {\n",
       "        text-align: right;\n",
       "    }\n",
       "</style>\n",
       "<table border=\"1\" class=\"dataframe\">\n",
       "  <thead>\n",
       "    <tr style=\"text-align: right;\">\n",
       "      <th></th>\n",
       "      <th>congress</th>\n",
       "      <th>party</th>\n",
       "      <th>major</th>\n",
       "      <th>state</th>\n",
       "      <th>idNEW</th>\n",
       "      <th>url</th>\n",
       "      <th>title</th>\n",
       "      <th>status</th>\n",
       "    </tr>\n",
       "  </thead>\n",
       "  <tbody>\n",
       "    <tr>\n",
       "      <th>0</th>\n",
       "      <td>93</td>\n",
       "      <td>D</td>\n",
       "      <td>Government Operations</td>\n",
       "      <td>IL</td>\n",
       "      <td>1</td>\n",
       "      <td>http://beta.congress.gov/bill/93th-congress/ho...</td>\n",
       "      <td>A bill to provide for the establishment of an ...</td>\n",
       "      <td>not_passed</td>\n",
       "    </tr>\n",
       "  </tbody>\n",
       "</table>\n",
       "</div>"
      ],
      "text/plain": [
       "   congress party                  major state  idNEW  \\\n",
       "0        93     D  Government Operations    IL      1   \n",
       "\n",
       "                                                 url  \\\n",
       "0  http://beta.congress.gov/bill/93th-congress/ho...   \n",
       "\n",
       "                                               title      status  \n",
       "0  A bill to provide for the establishment of an ...  not_passed  "
      ]
     },
     "execution_count": 18,
     "metadata": {},
     "output_type": "execute_result"
    }
   ],
   "source": [
    "print(bills.shape)\n",
    "print(bills.columns)\n",
    "bills.head(1)"
   ]
  },
  {
   "cell_type": "code",
   "execution_count": 19,
   "metadata": {},
   "outputs": [],
   "source": [
    "# BILL_COLUMNS = ['Cong', 'SpParty', 'Major', 'SpState', 'idNEW', 'URL', 'OfficialTitle', 'status']\n",
    "# # bills['status'] = bills['is_bill']\n",
    "# bills = bills[BILL_COLUMNS]\n",
    "# # bills.columns = ['congress', 'party', 'major', 'state', 'idNEW', 'url', 'title', 'status']"
   ]
  },
  {
   "cell_type": "markdown",
   "metadata": {},
   "source": [
    "### Congress 115"
   ]
  },
  {
   "cell_type": "code",
   "execution_count": 20,
   "metadata": {},
   "outputs": [],
   "source": [
    "bills_115_intro = pd.read_csv('../data/bills_115.csv', low_memory=False)\n",
    "bills_115_intro['status'] = 'not_passed'\n",
    "bills_115_passed = pd.read_csv('../data/bills_115_passed.csv', low_memory=False)\n",
    "bills_115_passed['status'] = 'passed'"
   ]
  },
  {
   "cell_type": "code",
   "execution_count": 21,
   "metadata": {},
   "outputs": [
    {
     "name": "stdout",
     "output_type": "stream",
     "text": [
      "(4574, 7) (531, 7)\n"
     ]
    },
    {
     "data": {
      "text/plain": [
       "set()"
      ]
     },
     "execution_count": 21,
     "metadata": {},
     "output_type": "execute_result"
    }
   ],
   "source": [
    "print(bills_115_intro.shape, bills_115_passed.shape)\n",
    "set.intersection(set(bills_115_intro.bill_id.values), set(bills_115_passed))"
   ]
  },
  {
   "cell_type": "code",
   "execution_count": 22,
   "metadata": {},
   "outputs": [],
   "source": [
    "bills_115 = pd.concat([bills_115_intro, bills_115_passed], ignore_index=True)\n",
    "bills_115['congress'] = 115\n",
    "# bills_115.columns = ['idNEW', 'party', 'major', 'state', 'url', 'title', 'congress', 'status']"
   ]
  },
  {
   "cell_type": "code",
   "execution_count": 23,
   "metadata": {},
   "outputs": [],
   "source": [
    "bills_115.rename(columns={'bill_id':'idNEW', 'sponsor_party':'party', 'primary_subject':'major', 'sponsor_state':'state', \n",
    "                      'congressdotgov_url':'url'}, inplace=True)\n",
    "bills_115 = bills_115[['congress', 'party', 'major', 'state', 'idNEW', 'url', 'title', 'status']]"
   ]
  },
  {
   "cell_type": "code",
   "execution_count": 24,
   "metadata": {},
   "outputs": [],
   "source": [
    "transformation_dict = dict()\n",
    "with open('../data/major_matching.txt', \"r\") as f_in:\n",
    "    lines = f_in.readlines()\n",
    "    f_in.close()\n",
    "\n",
    "for line in lines:\n",
    "    entry = line.split(';')\n",
    "    transformation_dict[entry[0]] = subjects_dict[\n",
    "        float(entry[1].replace('\\n', ''))]\n",
    "    \n",
    "bills_115['major'] = bills_115['major'].map(transformation_dict) \n",
    "bills_115['major'].fillna('Other', inplace=True)"
   ]
  },
  {
   "cell_type": "code",
   "execution_count": 25,
   "metadata": {},
   "outputs": [],
   "source": [
    "bills_115 = bills_115[~bills_115['idNEW'].str.contains('res')]"
   ]
  },
  {
   "cell_type": "code",
   "execution_count": 26,
   "metadata": {},
   "outputs": [
    {
     "name": "stdout",
     "output_type": "stream",
     "text": [
      "(4159, 8)\n"
     ]
    },
    {
     "data": {
      "text/html": [
       "<div>\n",
       "<style scoped>\n",
       "    .dataframe tbody tr th:only-of-type {\n",
       "        vertical-align: middle;\n",
       "    }\n",
       "\n",
       "    .dataframe tbody tr th {\n",
       "        vertical-align: top;\n",
       "    }\n",
       "\n",
       "    .dataframe thead th {\n",
       "        text-align: right;\n",
       "    }\n",
       "</style>\n",
       "<table border=\"1\" class=\"dataframe\">\n",
       "  <thead>\n",
       "    <tr style=\"text-align: right;\">\n",
       "      <th></th>\n",
       "      <th>congress</th>\n",
       "      <th>party</th>\n",
       "      <th>major</th>\n",
       "      <th>state</th>\n",
       "      <th>idNEW</th>\n",
       "      <th>url</th>\n",
       "      <th>title</th>\n",
       "      <th>status</th>\n",
       "    </tr>\n",
       "  </thead>\n",
       "  <tbody>\n",
       "    <tr>\n",
       "      <th>3</th>\n",
       "      <td>115</td>\n",
       "      <td>R</td>\n",
       "      <td>Other</td>\n",
       "      <td>TX</td>\n",
       "      <td>s3719-115</td>\n",
       "      <td>https://www.congress.gov/bill/115th-congress/s...</td>\n",
       "      <td>A bill to expand the grants authorized under J...</td>\n",
       "      <td>not_passed</td>\n",
       "    </tr>\n",
       "  </tbody>\n",
       "</table>\n",
       "</div>"
      ],
      "text/plain": [
       "   congress party  major state      idNEW  \\\n",
       "3       115     R  Other    TX  s3719-115   \n",
       "\n",
       "                                                 url  \\\n",
       "3  https://www.congress.gov/bill/115th-congress/s...   \n",
       "\n",
       "                                               title      status  \n",
       "3  A bill to expand the grants authorized under J...  not_passed  "
      ]
     },
     "execution_count": 26,
     "metadata": {},
     "output_type": "execute_result"
    }
   ],
   "source": [
    "print(bills_115.shape)\n",
    "bills_115.head(1)"
   ]
  },
  {
   "cell_type": "code",
   "execution_count": 27,
   "metadata": {
    "scrolled": true
   },
   "outputs": [
    {
     "name": "stdout",
     "output_type": "stream",
     "text": [
      "(240476, 8)\n"
     ]
    },
    {
     "data": {
      "text/html": [
       "<div>\n",
       "<style scoped>\n",
       "    .dataframe tbody tr th:only-of-type {\n",
       "        vertical-align: middle;\n",
       "    }\n",
       "\n",
       "    .dataframe tbody tr th {\n",
       "        vertical-align: top;\n",
       "    }\n",
       "\n",
       "    .dataframe thead th {\n",
       "        text-align: right;\n",
       "    }\n",
       "</style>\n",
       "<table border=\"1\" class=\"dataframe\">\n",
       "  <thead>\n",
       "    <tr style=\"text-align: right;\">\n",
       "      <th></th>\n",
       "      <th>congress</th>\n",
       "      <th>party</th>\n",
       "      <th>major</th>\n",
       "      <th>state</th>\n",
       "      <th>idNEW</th>\n",
       "      <th>url</th>\n",
       "      <th>title</th>\n",
       "      <th>status</th>\n",
       "    </tr>\n",
       "  </thead>\n",
       "  <tbody>\n",
       "    <tr>\n",
       "      <th>0</th>\n",
       "      <td>93</td>\n",
       "      <td>D</td>\n",
       "      <td>Government Operations</td>\n",
       "      <td>IL</td>\n",
       "      <td>1</td>\n",
       "      <td>http://beta.congress.gov/bill/93th-congress/ho...</td>\n",
       "      <td>A bill to provide for the establishment of an ...</td>\n",
       "      <td>not_passed</td>\n",
       "    </tr>\n",
       "  </tbody>\n",
       "</table>\n",
       "</div>"
      ],
      "text/plain": [
       "   congress party                  major state idNEW  \\\n",
       "0        93     D  Government Operations    IL     1   \n",
       "\n",
       "                                                 url  \\\n",
       "0  http://beta.congress.gov/bill/93th-congress/ho...   \n",
       "\n",
       "                                               title      status  \n",
       "0  A bill to provide for the establishment of an ...  not_passed  "
      ]
     },
     "execution_count": 27,
     "metadata": {},
     "output_type": "execute_result"
    }
   ],
   "source": [
    "# test = pd.merge(bills, bills_115,  how='outer', left_on='idNEW', right_on = 'idNEW')\n",
    "bills = pd.concat([bills, bills_115], ignore_index=True)\n",
    "print(bills.shape)\n",
    "bills.head(1)"
   ]
  },
  {
   "cell_type": "code",
   "execution_count": 28,
   "metadata": {},
   "outputs": [],
   "source": [
    "bills['title'] = bills.apply(lambda row: replace_chars(row, 'title'),axis=1)"
   ]
  },
  {
   "cell_type": "markdown",
   "metadata": {},
   "source": [
    "### Grouping"
   ]
  },
  {
   "cell_type": "code",
   "execution_count": 29,
   "metadata": {},
   "outputs": [
    {
     "data": {
      "text/html": [
       "<div>\n",
       "<style scoped>\n",
       "    .dataframe tbody tr th:only-of-type {\n",
       "        vertical-align: middle;\n",
       "    }\n",
       "\n",
       "    .dataframe tbody tr th {\n",
       "        vertical-align: top;\n",
       "    }\n",
       "\n",
       "    .dataframe thead th {\n",
       "        text-align: right;\n",
       "    }\n",
       "</style>\n",
       "<table border=\"1\" class=\"dataframe\">\n",
       "  <thead>\n",
       "    <tr style=\"text-align: right;\">\n",
       "      <th></th>\n",
       "      <th></th>\n",
       "      <th></th>\n",
       "      <th></th>\n",
       "      <th></th>\n",
       "      <th>count</th>\n",
       "    </tr>\n",
       "    <tr>\n",
       "      <th>congress</th>\n",
       "      <th>party</th>\n",
       "      <th>major</th>\n",
       "      <th>state</th>\n",
       "      <th>status</th>\n",
       "      <th></th>\n",
       "    </tr>\n",
       "  </thead>\n",
       "  <tbody>\n",
       "    <tr>\n",
       "      <th rowspan=\"5\" valign=\"top\">93</th>\n",
       "      <th rowspan=\"5\" valign=\"top\">D</th>\n",
       "      <th rowspan=\"5\" valign=\"top\">Agriculture and Food</th>\n",
       "      <th>AL</th>\n",
       "      <th>not_passed</th>\n",
       "      <td>1</td>\n",
       "    </tr>\n",
       "    <tr>\n",
       "      <th rowspan=\"2\" valign=\"top\">AR</th>\n",
       "      <th>not_passed</th>\n",
       "      <td>17</td>\n",
       "    </tr>\n",
       "    <tr>\n",
       "      <th>passed</th>\n",
       "      <td>1</td>\n",
       "    </tr>\n",
       "    <tr>\n",
       "      <th>AZ</th>\n",
       "      <th>not_passed</th>\n",
       "      <td>1</td>\n",
       "    </tr>\n",
       "    <tr>\n",
       "      <th>CA</th>\n",
       "      <th>not_passed</th>\n",
       "      <td>29</td>\n",
       "    </tr>\n",
       "  </tbody>\n",
       "</table>\n",
       "</div>"
      ],
      "text/plain": [
       "                                                      count\n",
       "congress party major                state status           \n",
       "93       D     Agriculture and Food AL    not_passed      1\n",
       "                                    AR    not_passed     17\n",
       "                                          passed          1\n",
       "                                    AZ    not_passed      1\n",
       "                                    CA    not_passed     29"
      ]
     },
     "execution_count": 29,
     "metadata": {},
     "output_type": "execute_result"
    }
   ],
   "source": [
    "# Before:\n",
    "bills_count = bills.groupby(['congress', 'party', 'major', 'state', 'status']).size()\n",
    "grouped_bills_count = bills_count.to_frame()\n",
    "grouped_bills_count.columns = ['count']\n",
    "grouped_bills_count.head(5)\n",
    "\n",
    "# # Testing:\n",
    "# bills_count = bills.groupby(['congress', 'party', 'major', 'state', 'status'], as_index=False)['idNEW'].agg('count')\n",
    "# # bills_count[bills_count['congress']==115]['idNEW'].sum()\n",
    "\n",
    "# bills_count.set_index(['congress', 'party', 'major', 'state', 'status'], inplace=True)\n",
    "# bills_count.rename(columns={'idNEW':'count'}, inplace=True)\n",
    "# bills_count.iloc[grouped_bills_count.index.get_level_values('congress') == 115]['count'].sum()# bills_count.head()"
   ]
  },
  {
   "cell_type": "code",
   "execution_count": 30,
   "metadata": {},
   "outputs": [
    {
     "data": {
      "text/plain": [
       "4159"
      ]
     },
     "execution_count": 30,
     "metadata": {},
     "output_type": "execute_result"
    }
   ],
   "source": [
    "grouped_bills_count.iloc[\n",
    "    grouped_bills_count.index.get_level_values('congress') == 115]['count'].sum()# bills_count.head()"
   ]
  },
  {
   "cell_type": "code",
   "execution_count": 31,
   "metadata": {},
   "outputs": [
    {
     "data": {
      "text/html": [
       "<div>\n",
       "<style scoped>\n",
       "    .dataframe tbody tr th:only-of-type {\n",
       "        vertical-align: middle;\n",
       "    }\n",
       "\n",
       "    .dataframe tbody tr th {\n",
       "        vertical-align: top;\n",
       "    }\n",
       "\n",
       "    .dataframe thead th {\n",
       "        text-align: right;\n",
       "    }\n",
       "</style>\n",
       "<table border=\"1\" class=\"dataframe\">\n",
       "  <thead>\n",
       "    <tr style=\"text-align: right;\">\n",
       "      <th></th>\n",
       "      <th></th>\n",
       "      <th></th>\n",
       "      <th></th>\n",
       "      <th></th>\n",
       "      <th>id_list</th>\n",
       "    </tr>\n",
       "    <tr>\n",
       "      <th>congress</th>\n",
       "      <th>party</th>\n",
       "      <th>major</th>\n",
       "      <th>state</th>\n",
       "      <th>status</th>\n",
       "      <th></th>\n",
       "    </tr>\n",
       "  </thead>\n",
       "  <tbody>\n",
       "    <tr>\n",
       "      <th rowspan=\"5\" valign=\"top\">93</th>\n",
       "      <th rowspan=\"5\" valign=\"top\">D</th>\n",
       "      <th rowspan=\"5\" valign=\"top\">Agriculture and Food</th>\n",
       "      <th>AL</th>\n",
       "      <th>not_passed</th>\n",
       "      <td>[24509]</td>\n",
       "    </tr>\n",
       "    <tr>\n",
       "      <th rowspan=\"2\" valign=\"top\">AR</th>\n",
       "      <th>not_passed</th>\n",
       "      <td>[1614, 2152, 3042, 5288, 5571, 7787, 8518, 106...</td>\n",
       "    </tr>\n",
       "    <tr>\n",
       "      <th>passed</th>\n",
       "      <td>[22443]</td>\n",
       "    </tr>\n",
       "    <tr>\n",
       "      <th>AZ</th>\n",
       "      <th>not_passed</th>\n",
       "      <td>[12457]</td>\n",
       "    </tr>\n",
       "    <tr>\n",
       "      <th>CA</th>\n",
       "      <th>not_passed</th>\n",
       "      <td>[646, 652, 690, 1862, 1877, 2804, 2863, 3029, ...</td>\n",
       "    </tr>\n",
       "  </tbody>\n",
       "</table>\n",
       "</div>"
      ],
      "text/plain": [
       "                                                                                                id_list\n",
       "congress party major                state status                                                       \n",
       "93       D     Agriculture and Food AL    not_passed                                            [24509]\n",
       "                                    AR    not_passed  [1614, 2152, 3042, 5288, 5571, 7787, 8518, 106...\n",
       "                                          passed                                                [22443]\n",
       "                                    AZ    not_passed                                            [12457]\n",
       "                                    CA    not_passed  [646, 652, 690, 1862, 1877, 2804, 2863, 3029, ..."
      ]
     },
     "execution_count": 31,
     "metadata": {},
     "output_type": "execute_result"
    }
   ],
   "source": [
    "grouped_id_list = bills.groupby(['congress', 'party', 'major', 'state', 'status'], as_index=False)['idNEW'].agg(\n",
    "    {'id_list':(lambda x: list(x))})\n",
    "grouped_id_list.set_index(['congress', 'party', 'major', 'state', 'status'], inplace=True)\n",
    "grouped_id_list.head(5)"
   ]
  },
  {
   "cell_type": "code",
   "execution_count": 32,
   "metadata": {},
   "outputs": [
    {
     "data": {
      "text/html": [
       "<div>\n",
       "<style scoped>\n",
       "    .dataframe tbody tr th:only-of-type {\n",
       "        vertical-align: middle;\n",
       "    }\n",
       "\n",
       "    .dataframe tbody tr th {\n",
       "        vertical-align: top;\n",
       "    }\n",
       "\n",
       "    .dataframe thead th {\n",
       "        text-align: right;\n",
       "    }\n",
       "</style>\n",
       "<table border=\"1\" class=\"dataframe\">\n",
       "  <thead>\n",
       "    <tr style=\"text-align: right;\">\n",
       "      <th></th>\n",
       "      <th></th>\n",
       "      <th></th>\n",
       "      <th></th>\n",
       "      <th></th>\n",
       "      <th>url_list</th>\n",
       "    </tr>\n",
       "    <tr>\n",
       "      <th>congress</th>\n",
       "      <th>party</th>\n",
       "      <th>major</th>\n",
       "      <th>state</th>\n",
       "      <th>status</th>\n",
       "      <th></th>\n",
       "    </tr>\n",
       "  </thead>\n",
       "  <tbody>\n",
       "    <tr>\n",
       "      <th rowspan=\"5\" valign=\"top\">93</th>\n",
       "      <th rowspan=\"5\" valign=\"top\">D</th>\n",
       "      <th rowspan=\"5\" valign=\"top\">Agriculture and Food</th>\n",
       "      <th>AL</th>\n",
       "      <th>not_passed</th>\n",
       "      <td>[http://beta.congress.gov/bill/93th-congress/s...</td>\n",
       "    </tr>\n",
       "    <tr>\n",
       "      <th rowspan=\"2\" valign=\"top\">AR</th>\n",
       "      <th>not_passed</th>\n",
       "      <td>[http://beta.congress.gov/bill/93th-congress/h...</td>\n",
       "    </tr>\n",
       "    <tr>\n",
       "      <th>passed</th>\n",
       "      <td>[http://beta.congress.gov/bill/93th-congress/s...</td>\n",
       "    </tr>\n",
       "    <tr>\n",
       "      <th>AZ</th>\n",
       "      <th>not_passed</th>\n",
       "      <td>[http://beta.congress.gov/bill/93th-congress/h...</td>\n",
       "    </tr>\n",
       "    <tr>\n",
       "      <th>CA</th>\n",
       "      <th>not_passed</th>\n",
       "      <td>[http://beta.congress.gov/bill/93th-congress/h...</td>\n",
       "    </tr>\n",
       "  </tbody>\n",
       "</table>\n",
       "</div>"
      ],
      "text/plain": [
       "                                                                                               url_list\n",
       "congress party major                state status                                                       \n",
       "93       D     Agriculture and Food AL    not_passed  [http://beta.congress.gov/bill/93th-congress/s...\n",
       "                                    AR    not_passed  [http://beta.congress.gov/bill/93th-congress/h...\n",
       "                                          passed      [http://beta.congress.gov/bill/93th-congress/s...\n",
       "                                    AZ    not_passed  [http://beta.congress.gov/bill/93th-congress/h...\n",
       "                                    CA    not_passed  [http://beta.congress.gov/bill/93th-congress/h..."
      ]
     },
     "execution_count": 32,
     "metadata": {},
     "output_type": "execute_result"
    }
   ],
   "source": [
    "grouped_url_list = bills.groupby(['congress', 'party', 'major', 'state', 'status'], as_index=False)['url'].agg(\n",
    "    {'url_list':(lambda x: list(x))})\n",
    "grouped_url_list.set_index(['congress', 'party', 'major', 'state', 'status'], inplace=True)\n",
    "grouped_url_list.head(5)"
   ]
  },
  {
   "cell_type": "code",
   "execution_count": 33,
   "metadata": {},
   "outputs": [
    {
     "data": {
      "text/html": [
       "<div>\n",
       "<style scoped>\n",
       "    .dataframe tbody tr th:only-of-type {\n",
       "        vertical-align: middle;\n",
       "    }\n",
       "\n",
       "    .dataframe tbody tr th {\n",
       "        vertical-align: top;\n",
       "    }\n",
       "\n",
       "    .dataframe thead th {\n",
       "        text-align: right;\n",
       "    }\n",
       "</style>\n",
       "<table border=\"1\" class=\"dataframe\">\n",
       "  <thead>\n",
       "    <tr style=\"text-align: right;\">\n",
       "      <th></th>\n",
       "      <th></th>\n",
       "      <th></th>\n",
       "      <th></th>\n",
       "      <th></th>\n",
       "      <th>title_list</th>\n",
       "    </tr>\n",
       "    <tr>\n",
       "      <th>congress</th>\n",
       "      <th>party</th>\n",
       "      <th>major</th>\n",
       "      <th>state</th>\n",
       "      <th>status</th>\n",
       "      <th></th>\n",
       "    </tr>\n",
       "  </thead>\n",
       "  <tbody>\n",
       "    <tr>\n",
       "      <th rowspan=\"5\" valign=\"top\">93</th>\n",
       "      <th rowspan=\"5\" valign=\"top\">D</th>\n",
       "      <th rowspan=\"5\" valign=\"top\">Agriculture and Food</th>\n",
       "      <th>AL</th>\n",
       "      <th>not_passed</th>\n",
       "      <td>[A bill to amend the Egg Products Inspection A...</td>\n",
       "    </tr>\n",
       "    <tr>\n",
       "      <th rowspan=\"2\" valign=\"top\">AR</th>\n",
       "      <th>not_passed</th>\n",
       "      <td>[A bill to amend the emergency loan program un...</td>\n",
       "    </tr>\n",
       "    <tr>\n",
       "      <th>passed</th>\n",
       "      <td>[A bill authorizing the Secretary of Agricultu...</td>\n",
       "    </tr>\n",
       "    <tr>\n",
       "      <th>AZ</th>\n",
       "      <th>not_passed</th>\n",
       "      <td>[A bill to prevent the estate tax law from ope...</td>\n",
       "    </tr>\n",
       "    <tr>\n",
       "      <th>CA</th>\n",
       "      <th>not_passed</th>\n",
       "      <td>[A bill to amend the Federal Meat Inspection A...</td>\n",
       "    </tr>\n",
       "  </tbody>\n",
       "</table>\n",
       "</div>"
      ],
      "text/plain": [
       "                                                                                             title_list\n",
       "congress party major                state status                                                       \n",
       "93       D     Agriculture and Food AL    not_passed  [A bill to amend the Egg Products Inspection A...\n",
       "                                    AR    not_passed  [A bill to amend the emergency loan program un...\n",
       "                                          passed      [A bill authorizing the Secretary of Agricultu...\n",
       "                                    AZ    not_passed  [A bill to prevent the estate tax law from ope...\n",
       "                                    CA    not_passed  [A bill to amend the Federal Meat Inspection A..."
      ]
     },
     "execution_count": 33,
     "metadata": {},
     "output_type": "execute_result"
    }
   ],
   "source": [
    "grouped_title_list = bills.groupby(['congress', 'party', 'major', 'state', 'status'], as_index=False)['title'].agg(\n",
    "    {'title_list':(lambda x: list(x))})\n",
    "grouped_title_list.set_index(['congress', 'party', 'major', 'state', 'status'], inplace=True)\n",
    "grouped_title_list.head(5)"
   ]
  },
  {
   "cell_type": "code",
   "execution_count": 34,
   "metadata": {},
   "outputs": [
    {
     "data": {
      "text/html": [
       "<div>\n",
       "<style scoped>\n",
       "    .dataframe tbody tr th:only-of-type {\n",
       "        vertical-align: middle;\n",
       "    }\n",
       "\n",
       "    .dataframe tbody tr th {\n",
       "        vertical-align: top;\n",
       "    }\n",
       "\n",
       "    .dataframe thead th {\n",
       "        text-align: right;\n",
       "    }\n",
       "</style>\n",
       "<table border=\"1\" class=\"dataframe\">\n",
       "  <thead>\n",
       "    <tr style=\"text-align: right;\">\n",
       "      <th></th>\n",
       "      <th></th>\n",
       "      <th></th>\n",
       "      <th></th>\n",
       "      <th></th>\n",
       "      <th>id_list</th>\n",
       "      <th>url_list</th>\n",
       "      <th>title_list</th>\n",
       "      <th>count</th>\n",
       "    </tr>\n",
       "    <tr>\n",
       "      <th>congress</th>\n",
       "      <th>party</th>\n",
       "      <th>major</th>\n",
       "      <th>state</th>\n",
       "      <th>status</th>\n",
       "      <th></th>\n",
       "      <th></th>\n",
       "      <th></th>\n",
       "      <th></th>\n",
       "    </tr>\n",
       "  </thead>\n",
       "  <tbody>\n",
       "    <tr>\n",
       "      <th rowspan=\"5\" valign=\"top\">93</th>\n",
       "      <th rowspan=\"5\" valign=\"top\">D</th>\n",
       "      <th rowspan=\"5\" valign=\"top\">Agriculture and Food</th>\n",
       "      <th>AL</th>\n",
       "      <th>not_passed</th>\n",
       "      <td>[24509]</td>\n",
       "      <td>[http://beta.congress.gov/bill/93th-congress/s...</td>\n",
       "      <td>[A bill to amend the Egg Products Inspection A...</td>\n",
       "      <td>1</td>\n",
       "    </tr>\n",
       "    <tr>\n",
       "      <th rowspan=\"2\" valign=\"top\">AR</th>\n",
       "      <th>not_passed</th>\n",
       "      <td>[1614, 2152, 3042, 5288, 5571, 7787, 8518, 106...</td>\n",
       "      <td>[http://beta.congress.gov/bill/93th-congress/h...</td>\n",
       "      <td>[A bill to amend the emergency loan program un...</td>\n",
       "      <td>17</td>\n",
       "    </tr>\n",
       "    <tr>\n",
       "      <th>passed</th>\n",
       "      <td>[22443]</td>\n",
       "      <td>[http://beta.congress.gov/bill/93th-congress/s...</td>\n",
       "      <td>[A bill authorizing the Secretary of Agricultu...</td>\n",
       "      <td>1</td>\n",
       "    </tr>\n",
       "    <tr>\n",
       "      <th>AZ</th>\n",
       "      <th>not_passed</th>\n",
       "      <td>[12457]</td>\n",
       "      <td>[http://beta.congress.gov/bill/93th-congress/h...</td>\n",
       "      <td>[A bill to prevent the estate tax law from ope...</td>\n",
       "      <td>1</td>\n",
       "    </tr>\n",
       "    <tr>\n",
       "      <th>CA</th>\n",
       "      <th>not_passed</th>\n",
       "      <td>[646, 652, 690, 1862, 1877, 2804, 2863, 3029, ...</td>\n",
       "      <td>[http://beta.congress.gov/bill/93th-congress/h...</td>\n",
       "      <td>[A bill to amend the Federal Meat Inspection A...</td>\n",
       "      <td>29</td>\n",
       "    </tr>\n",
       "  </tbody>\n",
       "</table>\n",
       "</div>"
      ],
      "text/plain": [
       "                                                                                                id_list  \\\n",
       "congress party major                state status                                                          \n",
       "93       D     Agriculture and Food AL    not_passed                                            [24509]   \n",
       "                                    AR    not_passed  [1614, 2152, 3042, 5288, 5571, 7787, 8518, 106...   \n",
       "                                          passed                                                [22443]   \n",
       "                                    AZ    not_passed                                            [12457]   \n",
       "                                    CA    not_passed  [646, 652, 690, 1862, 1877, 2804, 2863, 3029, ...   \n",
       "\n",
       "                                                                                               url_list  \\\n",
       "congress party major                state status                                                          \n",
       "93       D     Agriculture and Food AL    not_passed  [http://beta.congress.gov/bill/93th-congress/s...   \n",
       "                                    AR    not_passed  [http://beta.congress.gov/bill/93th-congress/h...   \n",
       "                                          passed      [http://beta.congress.gov/bill/93th-congress/s...   \n",
       "                                    AZ    not_passed  [http://beta.congress.gov/bill/93th-congress/h...   \n",
       "                                    CA    not_passed  [http://beta.congress.gov/bill/93th-congress/h...   \n",
       "\n",
       "                                                                                             title_list  \\\n",
       "congress party major                state status                                                          \n",
       "93       D     Agriculture and Food AL    not_passed  [A bill to amend the Egg Products Inspection A...   \n",
       "                                    AR    not_passed  [A bill to amend the emergency loan program un...   \n",
       "                                          passed      [A bill authorizing the Secretary of Agricultu...   \n",
       "                                    AZ    not_passed  [A bill to prevent the estate tax law from ope...   \n",
       "                                    CA    not_passed  [A bill to amend the Federal Meat Inspection A...   \n",
       "\n",
       "                                                      count  \n",
       "congress party major                state status             \n",
       "93       D     Agriculture and Food AL    not_passed      1  \n",
       "                                    AR    not_passed     17  \n",
       "                                          passed          1  \n",
       "                                    AZ    not_passed      1  \n",
       "                                    CA    not_passed     29  "
      ]
     },
     "execution_count": 34,
     "metadata": {},
     "output_type": "execute_result"
    }
   ],
   "source": [
    "grouped_bills = pd.merge(grouped_id_list, grouped_url_list, left_index=True, right_index=True)\n",
    "grouped_bills = pd.merge(grouped_bills, grouped_title_list, left_index=True, right_index=True)\n",
    "grouped_bills = pd.merge(grouped_bills, grouped_bills_count, left_index=True, right_index=True)\n",
    "grouped_bills.head(5)"
   ]
  },
  {
   "cell_type": "code",
   "execution_count": 35,
   "metadata": {},
   "outputs": [
    {
     "data": {
      "text/html": [
       "<div>\n",
       "<style scoped>\n",
       "    .dataframe tbody tr th:only-of-type {\n",
       "        vertical-align: middle;\n",
       "    }\n",
       "\n",
       "    .dataframe tbody tr th {\n",
       "        vertical-align: top;\n",
       "    }\n",
       "\n",
       "    .dataframe thead th {\n",
       "        text-align: right;\n",
       "    }\n",
       "</style>\n",
       "<table border=\"1\" class=\"dataframe\">\n",
       "  <thead>\n",
       "    <tr style=\"text-align: right;\">\n",
       "      <th></th>\n",
       "      <th></th>\n",
       "      <th></th>\n",
       "      <th></th>\n",
       "      <th></th>\n",
       "      <th>id_list</th>\n",
       "      <th>url_list</th>\n",
       "      <th>title_list</th>\n",
       "      <th>count</th>\n",
       "    </tr>\n",
       "    <tr>\n",
       "      <th>congress</th>\n",
       "      <th>party</th>\n",
       "      <th>major</th>\n",
       "      <th>state</th>\n",
       "      <th>status</th>\n",
       "      <th></th>\n",
       "      <th></th>\n",
       "      <th></th>\n",
       "      <th></th>\n",
       "    </tr>\n",
       "  </thead>\n",
       "  <tbody>\n",
       "    <tr>\n",
       "      <th rowspan=\"5\" valign=\"top\">93</th>\n",
       "      <th rowspan=\"5\" valign=\"top\">D</th>\n",
       "      <th rowspan=\"5\" valign=\"top\">Agriculture and Food</th>\n",
       "      <th>AL</th>\n",
       "      <th>not_passed</th>\n",
       "      <td>24509</td>\n",
       "      <td>http://beta.congress.gov/bill/93th-congress/se...</td>\n",
       "      <td>A bill to amend the Egg Products Inspection Act.</td>\n",
       "      <td>1</td>\n",
       "    </tr>\n",
       "    <tr>\n",
       "      <th rowspan=\"2\" valign=\"top\">AR</th>\n",
       "      <th>not_passed</th>\n",
       "      <td>1614;2152;3042;5288;5571;7787;8518;10697;10903...</td>\n",
       "      <td>http://beta.congress.gov/bill/93th-congress/ho...</td>\n",
       "      <td>A bill to amend the emergency loan program und...</td>\n",
       "      <td>17</td>\n",
       "    </tr>\n",
       "    <tr>\n",
       "      <th>passed</th>\n",
       "      <td>22443</td>\n",
       "      <td>http://beta.congress.gov/bill/93th-congress/se...</td>\n",
       "      <td>A bill authorizing the Secretary of Agricultur...</td>\n",
       "      <td>1</td>\n",
       "    </tr>\n",
       "    <tr>\n",
       "      <th>AZ</th>\n",
       "      <th>not_passed</th>\n",
       "      <td>12457</td>\n",
       "      <td>http://beta.congress.gov/bill/93th-congress/ho...</td>\n",
       "      <td>A bill to prevent the estate tax law from oper...</td>\n",
       "      <td>1</td>\n",
       "    </tr>\n",
       "    <tr>\n",
       "      <th>CA</th>\n",
       "      <th>not_passed</th>\n",
       "      <td>646;652;690;1862;1877;2804;2863;3029;4514;5686...</td>\n",
       "      <td>http://beta.congress.gov/bill/93th-congress/ho...</td>\n",
       "      <td>A bill to amend the Federal Meat Inspection Ac...</td>\n",
       "      <td>29</td>\n",
       "    </tr>\n",
       "  </tbody>\n",
       "</table>\n",
       "</div>"
      ],
      "text/plain": [
       "                                                                                                id_list  \\\n",
       "congress party major                state status                                                          \n",
       "93       D     Agriculture and Food AL    not_passed                                              24509   \n",
       "                                    AR    not_passed  1614;2152;3042;5288;5571;7787;8518;10697;10903...   \n",
       "                                          passed                                                  22443   \n",
       "                                    AZ    not_passed                                              12457   \n",
       "                                    CA    not_passed  646;652;690;1862;1877;2804;2863;3029;4514;5686...   \n",
       "\n",
       "                                                                                               url_list  \\\n",
       "congress party major                state status                                                          \n",
       "93       D     Agriculture and Food AL    not_passed  http://beta.congress.gov/bill/93th-congress/se...   \n",
       "                                    AR    not_passed  http://beta.congress.gov/bill/93th-congress/ho...   \n",
       "                                          passed      http://beta.congress.gov/bill/93th-congress/se...   \n",
       "                                    AZ    not_passed  http://beta.congress.gov/bill/93th-congress/ho...   \n",
       "                                    CA    not_passed  http://beta.congress.gov/bill/93th-congress/ho...   \n",
       "\n",
       "                                                                                             title_list  \\\n",
       "congress party major                state status                                                          \n",
       "93       D     Agriculture and Food AL    not_passed   A bill to amend the Egg Products Inspection Act.   \n",
       "                                    AR    not_passed  A bill to amend the emergency loan program und...   \n",
       "                                          passed      A bill authorizing the Secretary of Agricultur...   \n",
       "                                    AZ    not_passed  A bill to prevent the estate tax law from oper...   \n",
       "                                    CA    not_passed  A bill to amend the Federal Meat Inspection Ac...   \n",
       "\n",
       "                                                      count  \n",
       "congress party major                state status             \n",
       "93       D     Agriculture and Food AL    not_passed      1  \n",
       "                                    AR    not_passed     17  \n",
       "                                          passed          1  \n",
       "                                    AZ    not_passed      1  \n",
       "                                    CA    not_passed     29  "
      ]
     },
     "execution_count": 35,
     "metadata": {},
     "output_type": "execute_result"
    }
   ],
   "source": [
    "final_grouped = pd.DataFrame(index=grouped_bills.index) \n",
    "final_grouped['id_list'] = [ ';'.join([str(x) for x in row]) for row in grouped_bills['id_list']]\n",
    "final_grouped['url_list'] = [ ';'.join([str(x) for x in row]) for row in grouped_bills['url_list']]\n",
    "final_grouped['title_list'] = [ ';'.join([str(x) for x in row]) for row in grouped_bills['title_list']]\n",
    "final_grouped['count'] = grouped_bills_count['count']\n",
    "# final_grouped['congress'] = final_grouped['Cong']\n",
    "# final_grouped['party'] = final_grouped['SpParty']\n",
    "# final_grouped['major'] = final_grouped['Major']\n",
    "# final_grouped['state'] = final_grouped['SpState']\n",
    "# final_grouped = final_grouped[['congress','party','major','state','id_list','url_list','count']]\n",
    "# final_grouped.index.names = ['congress', 'party', 'major', 'state', 'status']\n",
    "final_grouped.head()"
   ]
  },
  {
   "cell_type": "code",
   "execution_count": 36,
   "metadata": {},
   "outputs": [],
   "source": [
    "final_grouped.to_csv('../project/app/data/grouped_bills.csv', sep=',', encoding='utf-8', escapechar=';')"
   ]
  },
  {
   "cell_type": "code",
   "execution_count": null,
   "metadata": {},
   "outputs": [],
   "source": []
  },
  {
   "cell_type": "code",
   "execution_count": 37,
   "metadata": {},
   "outputs": [],
   "source": [
    "total_ids = 0\n",
    "total_titles = 0\n",
    "total_urls = 0\n",
    "\n",
    "for index, row in final_grouped.iloc[final_grouped.index.get_level_values('congress')==115].iterrows():\n",
    "    ids = row['id_list'].split(';')\n",
    "    titles = row['title_list'].split(';')\n",
    "    urls = row['url_list'].split(';')\n",
    "    \n",
    "    total_ids += len(ids)\n",
    "    total_titles += len(titles)\n",
    "    total_urls += len(urls)\n",
    "    "
   ]
  },
  {
   "cell_type": "code",
   "execution_count": 38,
   "metadata": {},
   "outputs": [
    {
     "name": "stdout",
     "output_type": "stream",
     "text": [
      "4159 4159 4159\n"
     ]
    }
   ],
   "source": [
    "print(total_ids, total_titles, total_urls)"
   ]
  }
 ],
 "metadata": {
  "kernelspec": {
   "display_name": "Python 3",
   "language": "python",
   "name": "python3"
  },
  "language_info": {
   "codemirror_mode": {
    "name": "ipython",
    "version": 3
   },
   "file_extension": ".py",
   "mimetype": "text/x-python",
   "name": "python",
   "nbconvert_exporter": "python",
   "pygments_lexer": "ipython3",
   "version": "3.6.0"
  }
 },
 "nbformat": 4,
 "nbformat_minor": 2
}
