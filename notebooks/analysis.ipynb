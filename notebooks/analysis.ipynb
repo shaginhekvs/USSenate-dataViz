{
 "cells": [
  {
   "cell_type": "code",
   "execution_count": 1,
   "metadata": {},
   "outputs": [],
   "source": [
    "import pandas as pd\n",
    "import numpy as np\n",
    "import requests\n",
    "import json\n",
    "import os\n",
    "import re\n",
    "import time\n",
    "\n",
    "data_folder = 'data/'"
   ]
  },
  {
   "cell_type": "code",
   "execution_count": 2,
   "metadata": {},
   "outputs": [],
   "source": [
    "API_KEY = \"\"\n",
    "\n",
    "with open('api_key.txt') as f:\n",
    "    API_KEY = f.read()\n",
    "\n",
    "HEADERS = {\"X-Api-Key\": API_KEY}"
   ]
  },
  {
   "cell_type": "code",
   "execution_count": 3,
   "metadata": {},
   "outputs": [],
   "source": [
    "def create_folder(path):\n",
    "    if not os.path.exists(path):\n",
    "        os.makedirs(path)"
   ]
  },
  {
   "cell_type": "code",
   "execution_count": 4,
   "metadata": {},
   "outputs": [],
   "source": [
    "create_folder(data_folder + 'house_members')"
   ]
  },
  {
   "cell_type": "markdown",
   "metadata": {},
   "source": [
    "### Members congress #115 "
   ]
  },
  {
   "cell_type": "code",
   "execution_count": null,
   "metadata": {},
   "outputs": [],
   "source": [
    "u = \"https://api.propublica.org/congress/v1/{congress}/House/members.json\"\n",
    "\n",
    "for i in range(115, 115 + 1):\n",
    "    results = requests.get(url = u.format(congress=i), headers=HEADERS)\n",
    "    df = pd.io.json.json_normalize(results.json()['results'][0]['members'])\n",
    "    df.to_csv(\"data/house_members/house_members_{congress}.csv\".format(congress=i))"
   ]
  },
  {
   "cell_type": "code",
   "execution_count": 5,
   "metadata": {},
   "outputs": [],
   "source": [
    "senate_115_csv = 'data/senate_members/senate_members_115.csv'\n",
    "house_115_csv = 'data/house_members/house_members_115.csv'\n",
    "senate_df = pd.read_csv(senate_115_csv)\n",
    "house_df = pd.read_csv(house_115_csv)"
   ]
  },
  {
   "cell_type": "code",
   "execution_count": 6,
   "metadata": {
    "scrolled": true
   },
   "outputs": [],
   "source": [
    "MEMBER_COLUMNS = ['id', 'first_name', 'last_name', 'middle_name', 'party', 'state', 'title', 'url', 'in_office']\n",
    "\n",
    "senate_df = senate_df[MEMBER_COLUMNS]\n",
    "senate_df['chamber'] = 's'\n",
    "house_df = house_df[MEMBER_COLUMNS]\n",
    "house_df['chamber'] = 'h'"
   ]
  },
  {
   "cell_type": "code",
   "execution_count": 7,
   "metadata": {},
   "outputs": [
    {
     "name": "stdout",
     "output_type": "stream",
     "text": [
      "(105, 10)\n",
      "(454, 10)\n"
     ]
    }
   ],
   "source": [
    "print(senate_df.shape)\n",
    "print(house_df.shape)"
   ]
  },
  {
   "cell_type": "code",
   "execution_count": 8,
   "metadata": {},
   "outputs": [],
   "source": [
    "members_df = pd.concat([senate_df, house_df])\n",
    "members_df.set_index('id', inplace=True)"
   ]
  },
  {
   "cell_type": "code",
   "execution_count": 9,
   "metadata": {},
   "outputs": [
    {
     "name": "stdout",
     "output_type": "stream",
     "text": [
      "(559, 9)\n"
     ]
    },
    {
     "data": {
      "text/html": [
       "<div>\n",
       "<style scoped>\n",
       "    .dataframe tbody tr th:only-of-type {\n",
       "        vertical-align: middle;\n",
       "    }\n",
       "\n",
       "    .dataframe tbody tr th {\n",
       "        vertical-align: top;\n",
       "    }\n",
       "\n",
       "    .dataframe thead th {\n",
       "        text-align: right;\n",
       "    }\n",
       "</style>\n",
       "<table border=\"1\" class=\"dataframe\">\n",
       "  <thead>\n",
       "    <tr style=\"text-align: right;\">\n",
       "      <th></th>\n",
       "      <th>first_name</th>\n",
       "      <th>last_name</th>\n",
       "      <th>middle_name</th>\n",
       "      <th>party</th>\n",
       "      <th>state</th>\n",
       "      <th>title</th>\n",
       "      <th>url</th>\n",
       "      <th>in_office</th>\n",
       "      <th>chamber</th>\n",
       "    </tr>\n",
       "    <tr>\n",
       "      <th>id</th>\n",
       "      <th></th>\n",
       "      <th></th>\n",
       "      <th></th>\n",
       "      <th></th>\n",
       "      <th></th>\n",
       "      <th></th>\n",
       "      <th></th>\n",
       "      <th></th>\n",
       "      <th></th>\n",
       "    </tr>\n",
       "  </thead>\n",
       "  <tbody>\n",
       "    <tr>\n",
       "      <th>A000360</th>\n",
       "      <td>Lamar</td>\n",
       "      <td>Alexander</td>\n",
       "      <td>NaN</td>\n",
       "      <td>R</td>\n",
       "      <td>TN</td>\n",
       "      <td>Senator, 2nd Class</td>\n",
       "      <td>https://www.alexander.senate.gov/public</td>\n",
       "      <td>True</td>\n",
       "      <td>s</td>\n",
       "    </tr>\n",
       "  </tbody>\n",
       "</table>\n",
       "</div>"
      ],
      "text/plain": [
       "        first_name  last_name middle_name party state               title  \\\n",
       "id                                                                          \n",
       "A000360      Lamar  Alexander         NaN     R    TN  Senator, 2nd Class   \n",
       "\n",
       "                                             url  in_office chamber  \n",
       "id                                                                   \n",
       "A000360  https://www.alexander.senate.gov/public       True       s  "
      ]
     },
     "execution_count": 9,
     "metadata": {},
     "output_type": "execute_result"
    }
   ],
   "source": [
    "create_folder(data_folder + 'members')\n",
    "members_df.to_csv(\"data/members/members_{congress}.csv\".format(congress=115))\n",
    "print(members_df.shape)\n",
    "members_df.head(1)"
   ]
  },
  {
   "cell_type": "markdown",
   "metadata": {},
   "source": [
    "### Bills congress #115 "
   ]
  },
  {
   "cell_type": "code",
   "execution_count": 10,
   "metadata": {},
   "outputs": [],
   "source": [
    "create_folder(data_folder + 'bills')"
   ]
  },
  {
   "cell_type": "code",
   "execution_count": 11,
   "metadata": {},
   "outputs": [],
   "source": [
    "# there might be 3 cosponsors but only one sponsor id is displayed\n",
    "BILLS_COLUMNS = ['bill_id', 'title', 'short_title', 'sponsor_id', 'bill_uri', 'active']    "
   ]
  },
  {
   "cell_type": "code",
   "execution_count": null,
   "metadata": {},
   "outputs": [],
   "source": [
    "start_time = time.time()\n",
    "\n",
    "u = \"https://api.propublica.org/congress/v1/{congress}/{chamber}/bills/introduced.json?offset={offset}\"\n",
    "initial_reg_offset = 0\n",
    "\n",
    "for congress_num in range(115, 115 + 1):    \n",
    "    bills_df = pd.DataFrame(columns = BILLS_COLUMNS)\n",
    "    bills_df.set_index('bill_id', inplace=True)\n",
    "    bills_df.to_csv('data/bills/bills_{congress}.csv'.format(congress=congress_num), sep=',', encoding='utf-8')\n",
    "    \n",
    "    query_offset = initial_reg_offset\n",
    "    while True: \n",
    "        print(query_offset)\n",
    "        url_modified = u.format(congress = congress_num, chamber = 'senate', offset = query_offset)\n",
    "        results = requests.get(url = url_modified, headers=HEADERS)\n",
    "        num_results = results.json()['results'][0]['num_results']\n",
    "        if num_results == 0: \n",
    "            break            \n",
    "        bills_df = pd.io.json.json_normalize(results.json()['results'][0]['bills'])[BILLS_COLUMNS]\n",
    "        bills_df.set_index('bill_id', inplace=True)\n",
    "        bills_df.to_csv(\"data/bills/bills_{congress}.csv\".format(congress=congress_num),\n",
    "                        sep=',', encoding='utf-8', mode='a', header=False)\n",
    "        query_offset += 20\n",
    "\n",
    "elapsed_time_seconds = round((time.time() - start_time))\n",
    "elapsed_time_minutes = round(elapsed_time_seconds/60, 2)\n",
    "print('--- Elapsed time: ---')\n",
    "print(elapsed_time_seconds, 'seconds')\n",
    "print(elapsed_time_minutes, 'minutes')"
   ]
  },
  {
   "cell_type": "code",
   "execution_count": 12,
   "metadata": {},
   "outputs": [
    {
     "name": "stdout",
     "output_type": "stream",
     "text": [
      "(4466, 6)\n"
     ]
    },
    {
     "data": {
      "text/html": [
       "<div>\n",
       "<style scoped>\n",
       "    .dataframe tbody tr th:only-of-type {\n",
       "        vertical-align: middle;\n",
       "    }\n",
       "\n",
       "    .dataframe tbody tr th {\n",
       "        vertical-align: top;\n",
       "    }\n",
       "\n",
       "    .dataframe thead th {\n",
       "        text-align: right;\n",
       "    }\n",
       "</style>\n",
       "<table border=\"1\" class=\"dataframe\">\n",
       "  <thead>\n",
       "    <tr style=\"text-align: right;\">\n",
       "      <th></th>\n",
       "      <th>bill_id</th>\n",
       "      <th>title</th>\n",
       "      <th>short_title</th>\n",
       "      <th>sponsor_id</th>\n",
       "      <th>bill_uri</th>\n",
       "      <th>active</th>\n",
       "    </tr>\n",
       "  </thead>\n",
       "  <tbody>\n",
       "    <tr>\n",
       "      <th>0</th>\n",
       "      <td>sres693-115</td>\n",
       "      <td>A resolution celebrating October 25, 2018, as ...</td>\n",
       "      <td>A resolution celebrating October 25, 2018, as ...</td>\n",
       "      <td>R000584</td>\n",
       "      <td>https://api.propublica.org/congress/v1/115/bil...</td>\n",
       "      <td>True</td>\n",
       "    </tr>\n",
       "  </tbody>\n",
       "</table>\n",
       "</div>"
      ],
      "text/plain": [
       "       bill_id                                              title  \\\n",
       "0  sres693-115  A resolution celebrating October 25, 2018, as ...   \n",
       "\n",
       "                                         short_title sponsor_id  \\\n",
       "0  A resolution celebrating October 25, 2018, as ...    R000584   \n",
       "\n",
       "                                            bill_uri  active  \n",
       "0  https://api.propublica.org/congress/v1/115/bil...    True  "
      ]
     },
     "execution_count": 12,
     "metadata": {},
     "output_type": "execute_result"
    }
   ],
   "source": [
    "bills_df = pd.read_csv('data/bills/bills_115.csv')\n",
    "print(bills_df.shape)\n",
    "bills_df.head(1)"
   ]
  },
  {
   "cell_type": "code",
   "execution_count": null,
   "metadata": {},
   "outputs": [],
   "source": []
  },
  {
   "cell_type": "code",
   "execution_count": null,
   "metadata": {},
   "outputs": [],
   "source": []
  },
  {
   "cell_type": "code",
   "execution_count": null,
   "metadata": {},
   "outputs": [],
   "source": []
  }
 ],
 "metadata": {
  "kernelspec": {
   "display_name": "Python 3",
   "language": "python",
   "name": "python3"
  },
  "language_info": {
   "codemirror_mode": {
    "name": "ipython",
    "version": 3
   },
   "file_extension": ".py",
   "mimetype": "text/x-python",
   "name": "python",
   "nbconvert_exporter": "python",
   "pygments_lexer": "ipython3",
   "version": "3.6.4"
  }
 },
 "nbformat": 4,
 "nbformat_minor": 2
}
