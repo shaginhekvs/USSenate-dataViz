{
 "cells": [
  {
   "cell_type": "code",
   "execution_count": 1,
   "metadata": {},
   "outputs": [],
   "source": [
    "import pandas as pd\n",
    "import csv\n",
    "import time\n",
    "import math\n",
    "import re"
   ]
  },
  {
   "cell_type": "code",
   "execution_count": 2,
   "metadata": {},
   "outputs": [],
   "source": [
    "def replace_chars(row, column_name):\n",
    "    return re.sub('[,;]*', ' ', row[column_name])"
   ]
  },
  {
   "cell_type": "code",
   "execution_count": 3,
   "metadata": {},
   "outputs": [],
   "source": [
    "def rearrange_csv_columns(path):\n",
    "    new_path = '/'.join(path.split('/')[:-1]) + '/new_' + path.split('/')[-1]\n",
    "    num_of_cols = 35\n",
    "    prob_col =  11\n",
    "    prob_string_list = [' Jr.\"' , ' Jr.']\n",
    "     \n",
    "    with open(path, \"r\") as f_in, open(new_path, \"w\") as f_out:\n",
    "        reader = csv.reader(f_in)\n",
    "        writer = csv.writer(f_out)\n",
    "        for row in reader:\n",
    "            if len(row) == num_of_cols + 1:\n",
    "                assert row[prob_col] in prob_string_list, row[prob_col] + ' -> id:' + str(row[0])\n",
    "                new_row[:prob_col-1] = row[:prob_col-1]\n",
    "                new_row[prob_col-1] = row[prob_col-1] + row[prob_col]\n",
    "                new_row[prob_col:] = row[prob_col+1:]\n",
    "            else:\n",
    "                new_row = row\n",
    "\n",
    "            writer.writerow(new_row)\n",
    "\n",
    "    f_in.close()\n",
    "    f_out.close()\n",
    "    \n",
    "    return new_path"
   ]
  },
  {
   "cell_type": "code",
   "execution_count": 4,
   "metadata": {},
   "outputs": [],
   "source": [
    "# subjects 11, 22 are missing => 21 subjects in total\n",
    "subjects_dict = dict()\n",
    "with open('../data/policy_agenda.csv', \"r\") as f_in:\n",
    "    reader = csv.reader(f_in)\n",
    "    for row in reader:\n",
    "        subjects_dict[float(row[0])] = row[1]\n",
    "    f_in.close()"
   ]
  },
  {
   "cell_type": "markdown",
   "metadata": {},
   "source": [
    "##### inner bills file"
   ]
  },
  {
   "cell_type": "code",
   "execution_count": 5,
   "metadata": {},
   "outputs": [],
   "source": [
    "# _ = rearrange_csv_columns('data/bills.csv')\n",
    "bills_initial = pd.read_csv('../data/new_bills.csv', low_memory=False)"
   ]
  },
  {
   "cell_type": "code",
   "execution_count": 6,
   "metadata": {},
   "outputs": [],
   "source": [
    "bills_initial = bills_initial[ bills_initial['isBill'] == 1]"
   ]
  },
  {
   "cell_type": "code",
   "execution_count": 7,
   "metadata": {
    "scrolled": true
   },
   "outputs": [
    {
     "name": "stdout",
     "output_type": "stream",
     "text": [
      "(236317, 35)\n",
      "Index(['idNEW', 'idOLD', 'BillNum', 'BillType', 'Cong', 'IntrDate',\n",
      "       'ShortTitle', 'OfficialTitle', 'PopTitle', 'SpThomasID', 'SpName',\n",
      "       'SpState', 'SpDist', 'UpdatedAt', 'CoSpThID', 'PLawNo', 'MinorBill',\n",
      "       'PLawNoFull', 'compLaw', 'Major', 'Minor', 'ChRef', 'RankRef', 'MemRef',\n",
      "       'SubChRef', 'SubRankRef', 'ImpBill', 'URL', 'isBill', 'Majority',\n",
      "       'Senate', 'LeadRef', 'SpParty', 'commRefs', 'timestamp'],\n",
      "      dtype='object')\n",
      "[ 93  94  95  96  97  98  99 100 101 102 103 104 105 106 107 108 109 110\n",
      " 111 112 113 114]\n",
      "[20.  6.  4. 16.  1. 14.  7.  5. 17. 13. 10. 21.  2. 15.  3. 12. 99.  8.\n",
      " 18. 19.  9. nan]\n"
     ]
    }
   ],
   "source": [
    "print(bills_initial.shape)\n",
    "print(bills_initial.columns)\n",
    "print(bills_initial.Cong.unique())\n",
    "print(bills_initial.Major.unique())"
   ]
  },
  {
   "cell_type": "code",
   "execution_count": 8,
   "metadata": {},
   "outputs": [],
   "source": [
    "BILL_COLUMNS = ['Cong', 'SpParty', 'Major', 'SpState', 'idNEW', 'URL', 'OfficialTitle']\n",
    "# bills_initial = bills_initial[BILL_COLUMNS]"
   ]
  },
  {
   "cell_type": "code",
   "execution_count": 9,
   "metadata": {},
   "outputs": [],
   "source": [
    "bills = pd.DataFrame(index=bills_initial.index)\n",
    "bills[BILL_COLUMNS] = bills_initial[BILL_COLUMNS]\n",
    "bills['Major'] = bills_initial['Major'].map(subjects_dict) \n",
    "bills['Major'].fillna('Other', inplace=True)"
   ]
  },
  {
   "cell_type": "code",
   "execution_count": 10,
   "metadata": {},
   "outputs": [
    {
     "name": "stdout",
     "output_type": "stream",
     "text": [
      "(236317, 7)\n",
      "Index(['Cong', 'SpParty', 'Major', 'SpState', 'idNEW', 'URL', 'OfficialTitle'], dtype='object')\n"
     ]
    },
    {
     "data": {
      "text/html": [
       "<div>\n",
       "<style scoped>\n",
       "    .dataframe tbody tr th:only-of-type {\n",
       "        vertical-align: middle;\n",
       "    }\n",
       "\n",
       "    .dataframe tbody tr th {\n",
       "        vertical-align: top;\n",
       "    }\n",
       "\n",
       "    .dataframe thead th {\n",
       "        text-align: right;\n",
       "    }\n",
       "</style>\n",
       "<table border=\"1\" class=\"dataframe\">\n",
       "  <thead>\n",
       "    <tr style=\"text-align: right;\">\n",
       "      <th></th>\n",
       "      <th>Cong</th>\n",
       "      <th>SpParty</th>\n",
       "      <th>Major</th>\n",
       "      <th>SpState</th>\n",
       "      <th>idNEW</th>\n",
       "      <th>URL</th>\n",
       "      <th>OfficialTitle</th>\n",
       "    </tr>\n",
       "  </thead>\n",
       "  <tbody>\n",
       "    <tr>\n",
       "      <th>0</th>\n",
       "      <td>93</td>\n",
       "      <td>D</td>\n",
       "      <td>Government Operations</td>\n",
       "      <td>IL</td>\n",
       "      <td>1</td>\n",
       "      <td>http://beta.congress.gov/bill/93th-congress/ho...</td>\n",
       "      <td>A bill to provide for the establishment of an ...</td>\n",
       "    </tr>\n",
       "  </tbody>\n",
       "</table>\n",
       "</div>"
      ],
      "text/plain": [
       "   Cong SpParty                  Major SpState  idNEW  \\\n",
       "0    93       D  Government Operations      IL      1   \n",
       "\n",
       "                                                 URL  \\\n",
       "0  http://beta.congress.gov/bill/93th-congress/ho...   \n",
       "\n",
       "                                       OfficialTitle  \n",
       "0  A bill to provide for the establishment of an ...  "
      ]
     },
     "execution_count": 10,
     "metadata": {},
     "output_type": "execute_result"
    }
   ],
   "source": [
    "print(bills.shape)\n",
    "print(bills.columns)\n",
    "bills.head(1)"
   ]
  },
  {
   "cell_type": "markdown",
   "metadata": {},
   "source": [
    "### Actions"
   ]
  },
  {
   "cell_type": "code",
   "execution_count": 11,
   "metadata": {},
   "outputs": [
    {
     "name": "stdout",
     "output_type": "stream",
     "text": [
      "(828172, 14)\n",
      "Index(['billID', 'bill', 'cong', 'billtype', 'acted_at', 'loc', 'status',\n",
      "       'actno', 'subbill', 'phrase', 'manUpdate', 'goodDate', 'timestamp',\n",
      "       'actionID'],\n",
      "      dtype='object')\n",
      "['INT' 'COMM' 'REP' 'PASSO' 'PASSB' 'WAIT' 'SIGN' 'LAW' 'PASS' 'DISC'\n",
      " 'CREP' 'VETO' 'RESA' 'RULP' 'CAL' 'PASSC' 'CONF' 'PASSV2' 'CONS' 'PASSV']\n"
     ]
    }
   ],
   "source": [
    "actions = pd.read_csv('../data/actions.csv', low_memory=False)\n",
    "\n",
    "print(actions.shape)\n",
    "print(actions.columns)\n",
    "print(actions.status.unique())"
   ]
  },
  {
   "cell_type": "code",
   "execution_count": 12,
   "metadata": {},
   "outputs": [],
   "source": [
    "bills = pd.merge(bills, actions[['status']], left_index=True, right_index=True)"
   ]
  },
  {
   "cell_type": "code",
   "execution_count": 13,
   "metadata": {},
   "outputs": [
    {
     "name": "stdout",
     "output_type": "stream",
     "text": [
      "(236317, 8)\n",
      "Index(['Cong', 'SpParty', 'Major', 'SpState', 'idNEW', 'URL', 'OfficialTitle',\n",
      "       'status'],\n",
      "      dtype='object')\n"
     ]
    },
    {
     "data": {
      "text/html": [
       "<div>\n",
       "<style scoped>\n",
       "    .dataframe tbody tr th:only-of-type {\n",
       "        vertical-align: middle;\n",
       "    }\n",
       "\n",
       "    .dataframe tbody tr th {\n",
       "        vertical-align: top;\n",
       "    }\n",
       "\n",
       "    .dataframe thead th {\n",
       "        text-align: right;\n",
       "    }\n",
       "</style>\n",
       "<table border=\"1\" class=\"dataframe\">\n",
       "  <thead>\n",
       "    <tr style=\"text-align: right;\">\n",
       "      <th></th>\n",
       "      <th>Cong</th>\n",
       "      <th>SpParty</th>\n",
       "      <th>Major</th>\n",
       "      <th>SpState</th>\n",
       "      <th>idNEW</th>\n",
       "      <th>URL</th>\n",
       "      <th>OfficialTitle</th>\n",
       "      <th>status</th>\n",
       "    </tr>\n",
       "  </thead>\n",
       "  <tbody>\n",
       "    <tr>\n",
       "      <th>0</th>\n",
       "      <td>93</td>\n",
       "      <td>D</td>\n",
       "      <td>Government Operations</td>\n",
       "      <td>IL</td>\n",
       "      <td>1</td>\n",
       "      <td>http://beta.congress.gov/bill/93th-congress/ho...</td>\n",
       "      <td>A bill to provide for the establishment of an ...</td>\n",
       "      <td>INT</td>\n",
       "    </tr>\n",
       "  </tbody>\n",
       "</table>\n",
       "</div>"
      ],
      "text/plain": [
       "   Cong SpParty                  Major SpState  idNEW  \\\n",
       "0    93       D  Government Operations      IL      1   \n",
       "\n",
       "                                                 URL  \\\n",
       "0  http://beta.congress.gov/bill/93th-congress/ho...   \n",
       "\n",
       "                                       OfficialTitle status  \n",
       "0  A bill to provide for the establishment of an ...    INT  "
      ]
     },
     "execution_count": 13,
     "metadata": {},
     "output_type": "execute_result"
    }
   ],
   "source": [
    "print(bills.shape)\n",
    "print(bills.columns)\n",
    "bills.head(1)"
   ]
  },
  {
   "cell_type": "code",
   "execution_count": 14,
   "metadata": {},
   "outputs": [],
   "source": [
    "def define_status(row):\n",
    "    if row['status'] == 'LAW' :\n",
    "        return 'passed'\n",
    "    else:\n",
    "        return 'not_passed'"
   ]
  },
  {
   "cell_type": "code",
   "execution_count": 15,
   "metadata": {},
   "outputs": [],
   "source": [
    "bills['status'] = bills.apply(lambda row: define_status(row),axis=1)"
   ]
  },
  {
   "cell_type": "code",
   "execution_count": 16,
   "metadata": {},
   "outputs": [
    {
     "data": {
      "text/plain": [
       "array(['not_passed', 'passed'], dtype=object)"
      ]
     },
     "execution_count": 16,
     "metadata": {},
     "output_type": "execute_result"
    }
   ],
   "source": [
    "bills['status'].unique()"
   ]
  },
  {
   "cell_type": "code",
   "execution_count": 17,
   "metadata": {},
   "outputs": [],
   "source": [
    "bills.rename(columns={'Cong':'congress', 'SpParty':'party', 'Major':'major', 'SpState':'state', \n",
    "                      'URL':'url', 'OfficialTitle':'title'}, inplace=True)"
   ]
  },
  {
   "cell_type": "code",
   "execution_count": 18,
   "metadata": {},
   "outputs": [
    {
     "name": "stdout",
     "output_type": "stream",
     "text": [
      "(236317, 8)\n",
      "Index(['congress', 'party', 'major', 'state', 'idNEW', 'url', 'title',\n",
      "       'status'],\n",
      "      dtype='object')\n"
     ]
    },
    {
     "data": {
      "text/html": [
       "<div>\n",
       "<style scoped>\n",
       "    .dataframe tbody tr th:only-of-type {\n",
       "        vertical-align: middle;\n",
       "    }\n",
       "\n",
       "    .dataframe tbody tr th {\n",
       "        vertical-align: top;\n",
       "    }\n",
       "\n",
       "    .dataframe thead th {\n",
       "        text-align: right;\n",
       "    }\n",
       "</style>\n",
       "<table border=\"1\" class=\"dataframe\">\n",
       "  <thead>\n",
       "    <tr style=\"text-align: right;\">\n",
       "      <th></th>\n",
       "      <th>congress</th>\n",
       "      <th>party</th>\n",
       "      <th>major</th>\n",
       "      <th>state</th>\n",
       "      <th>idNEW</th>\n",
       "      <th>url</th>\n",
       "      <th>title</th>\n",
       "      <th>status</th>\n",
       "    </tr>\n",
       "  </thead>\n",
       "  <tbody>\n",
       "    <tr>\n",
       "      <th>0</th>\n",
       "      <td>93</td>\n",
       "      <td>D</td>\n",
       "      <td>Government Operations</td>\n",
       "      <td>IL</td>\n",
       "      <td>1</td>\n",
       "      <td>http://beta.congress.gov/bill/93th-congress/ho...</td>\n",
       "      <td>A bill to provide for the establishment of an ...</td>\n",
       "      <td>not_passed</td>\n",
       "    </tr>\n",
       "  </tbody>\n",
       "</table>\n",
       "</div>"
      ],
      "text/plain": [
       "   congress party                  major state  idNEW  \\\n",
       "0        93     D  Government Operations    IL      1   \n",
       "\n",
       "                                                 url  \\\n",
       "0  http://beta.congress.gov/bill/93th-congress/ho...   \n",
       "\n",
       "                                               title      status  \n",
       "0  A bill to provide for the establishment of an ...  not_passed  "
      ]
     },
     "execution_count": 18,
     "metadata": {},
     "output_type": "execute_result"
    }
   ],
   "source": [
    "print(bills.shape)\n",
    "print(bills.columns)\n",
    "bills.head(1)"
   ]
  },
  {
   "cell_type": "code",
   "execution_count": 19,
   "metadata": {},
   "outputs": [],
   "source": [
    "# BILL_COLUMNS = ['Cong', 'SpParty', 'Major', 'SpState', 'idNEW', 'URL', 'OfficialTitle', 'status']\n",
    "# # bills['status'] = bills['is_bill']\n",
    "# bills = bills[BILL_COLUMNS]\n",
    "# # bills.columns = ['congress', 'party', 'major', 'state', 'idNEW', 'url', 'title', 'status']"
   ]
  },
  {
   "cell_type": "markdown",
   "metadata": {},
   "source": [
    "### Congress 115"
   ]
  },
  {
   "cell_type": "code",
   "execution_count": 20,
   "metadata": {},
   "outputs": [],
   "source": [
    "bills_115_intro = pd.read_csv('../data/bills_115.csv', low_memory=False)\n",
    "bills_115_intro['status'] = 'not_passed'\n",
    "bills_115_passed = pd.read_csv('../data/bills_115_passed.csv', low_memory=False)\n",
    "bills_115_passed['status'] = 'passed'"
   ]
  },
  {
   "cell_type": "code",
   "execution_count": 21,
   "metadata": {},
   "outputs": [
    {
     "name": "stdout",
     "output_type": "stream",
     "text": [
      "(4574, 7) (531, 7)\n"
     ]
    },
    {
     "data": {
      "text/plain": [
       "set()"
      ]
     },
     "execution_count": 21,
     "metadata": {},
     "output_type": "execute_result"
    }
   ],
   "source": [
    "print(bills_115_intro.shape, bills_115_passed.shape)\n",
    "set.intersection(set(bills_115_intro.bill_id.values), set(bills_115_passed))"
   ]
  },
  {
   "cell_type": "code",
   "execution_count": 22,
   "metadata": {},
   "outputs": [],
   "source": [
    "bills_115 = pd.concat([bills_115_intro, bills_115_passed], ignore_index=True)\n",
    "bills_115['congress'] = 115\n",
    "# bills_115.columns = ['idNEW', 'party', 'major', 'state', 'url', 'title', 'congress', 'status']"
   ]
  },
  {
   "cell_type": "code",
   "execution_count": 23,
   "metadata": {},
   "outputs": [],
   "source": [
    "bills_115.rename(columns={'bill_id':'idNEW', 'sponsor_party':'party', 'primary_subject':'major', 'sponsor_state':'state', \n",
    "                      'congressdotgov_url':'url'}, inplace=True)\n",
    "bills_115 = bills_115[['congress', 'party', 'major', 'state', 'idNEW', 'url', 'title', 'status']]"
   ]
  },
  {
   "cell_type": "code",
   "execution_count": 24,
   "metadata": {},
   "outputs": [],
   "source": [
    "transformation_dict = dict()\n",
    "with open('../data/major_matching.txt', \"r\") as f_in:\n",
    "    lines = f_in.readlines()\n",
    "    f_in.close()\n",
    "\n",
    "for line in lines:\n",
    "    entry = line.split(';')\n",
    "    transformation_dict[entry[0]] = subjects_dict[\n",
    "        float(entry[1].replace('\\n', ''))]\n",
    "    \n",
    "bills_115['major'] = bills_115['major'].map(transformation_dict) \n",
    "bills_115['major'].fillna('Other', inplace=True)"
   ]
  },
  {
   "cell_type": "code",
   "execution_count": 25,
   "metadata": {},
   "outputs": [
    {
     "name": "stdout",
     "output_type": "stream",
     "text": [
      "(5105, 8)\n"
     ]
    },
    {
     "data": {
      "text/html": [
       "<div>\n",
       "<style scoped>\n",
       "    .dataframe tbody tr th:only-of-type {\n",
       "        vertical-align: middle;\n",
       "    }\n",
       "\n",
       "    .dataframe tbody tr th {\n",
       "        vertical-align: top;\n",
       "    }\n",
       "\n",
       "    .dataframe thead th {\n",
       "        text-align: right;\n",
       "    }\n",
       "</style>\n",
       "<table border=\"1\" class=\"dataframe\">\n",
       "  <thead>\n",
       "    <tr style=\"text-align: right;\">\n",
       "      <th></th>\n",
       "      <th>congress</th>\n",
       "      <th>party</th>\n",
       "      <th>major</th>\n",
       "      <th>state</th>\n",
       "      <th>idNEW</th>\n",
       "      <th>url</th>\n",
       "      <th>title</th>\n",
       "      <th>status</th>\n",
       "    </tr>\n",
       "  </thead>\n",
       "  <tbody>\n",
       "    <tr>\n",
       "      <th>0</th>\n",
       "      <td>115</td>\n",
       "      <td>D</td>\n",
       "      <td>Other</td>\n",
       "      <td>CA</td>\n",
       "      <td>sres717-115</td>\n",
       "      <td>https://www.congress.gov/bill/115th-congress/s...</td>\n",
       "      <td>A resolution honoring the life and legacy of R...</td>\n",
       "      <td>not_passed</td>\n",
       "    </tr>\n",
       "  </tbody>\n",
       "</table>\n",
       "</div>"
      ],
      "text/plain": [
       "   congress party  major state        idNEW  \\\n",
       "0       115     D  Other    CA  sres717-115   \n",
       "\n",
       "                                                 url  \\\n",
       "0  https://www.congress.gov/bill/115th-congress/s...   \n",
       "\n",
       "                                               title      status  \n",
       "0  A resolution honoring the life and legacy of R...  not_passed  "
      ]
     },
     "execution_count": 25,
     "metadata": {},
     "output_type": "execute_result"
    }
   ],
   "source": [
    "print(bills_115.shape)\n",
    "bills_115.head(1)"
   ]
  },
  {
   "cell_type": "code",
   "execution_count": 26,
   "metadata": {},
   "outputs": [
    {
     "data": {
      "text/plain": [
       "{'not_passed': 4574, 'passed': 531}"
      ]
     },
     "execution_count": 26,
     "metadata": {},
     "output_type": "execute_result"
    }
   ],
   "source": [
    "bills_115.status.value_counts().to_dict()"
   ]
  },
  {
   "cell_type": "code",
   "execution_count": 27,
   "metadata": {
    "scrolled": true
   },
   "outputs": [
    {
     "name": "stdout",
     "output_type": "stream",
     "text": [
      "(241422, 8)\n"
     ]
    },
    {
     "data": {
      "text/html": [
       "<div>\n",
       "<style scoped>\n",
       "    .dataframe tbody tr th:only-of-type {\n",
       "        vertical-align: middle;\n",
       "    }\n",
       "\n",
       "    .dataframe tbody tr th {\n",
       "        vertical-align: top;\n",
       "    }\n",
       "\n",
       "    .dataframe thead th {\n",
       "        text-align: right;\n",
       "    }\n",
       "</style>\n",
       "<table border=\"1\" class=\"dataframe\">\n",
       "  <thead>\n",
       "    <tr style=\"text-align: right;\">\n",
       "      <th></th>\n",
       "      <th>congress</th>\n",
       "      <th>party</th>\n",
       "      <th>major</th>\n",
       "      <th>state</th>\n",
       "      <th>idNEW</th>\n",
       "      <th>url</th>\n",
       "      <th>title</th>\n",
       "      <th>status</th>\n",
       "    </tr>\n",
       "  </thead>\n",
       "  <tbody>\n",
       "    <tr>\n",
       "      <th>0</th>\n",
       "      <td>93</td>\n",
       "      <td>D</td>\n",
       "      <td>Government Operations</td>\n",
       "      <td>IL</td>\n",
       "      <td>1</td>\n",
       "      <td>http://beta.congress.gov/bill/93th-congress/ho...</td>\n",
       "      <td>A bill to provide for the establishment of an ...</td>\n",
       "      <td>not_passed</td>\n",
       "    </tr>\n",
       "  </tbody>\n",
       "</table>\n",
       "</div>"
      ],
      "text/plain": [
       "   congress party                  major state idNEW  \\\n",
       "0        93     D  Government Operations    IL     1   \n",
       "\n",
       "                                                 url  \\\n",
       "0  http://beta.congress.gov/bill/93th-congress/ho...   \n",
       "\n",
       "                                               title      status  \n",
       "0  A bill to provide for the establishment of an ...  not_passed  "
      ]
     },
     "execution_count": 27,
     "metadata": {},
     "output_type": "execute_result"
    }
   ],
   "source": [
    "# test = pd.merge(bills, bills_115,  how='outer', left_on='idNEW', right_on = 'idNEW')\n",
    "bills = pd.concat([bills, bills_115], ignore_index=True)\n",
    "print(bills.shape)\n",
    "bills.head(1)"
   ]
  },
  {
   "cell_type": "code",
   "execution_count": 28,
   "metadata": {},
   "outputs": [
    {
     "ename": "KeyboardInterrupt",
     "evalue": "",
     "output_type": "error",
     "traceback": [
      "\u001b[0;31m------------------------------------------------------------------------\u001b[0m",
      "\u001b[0;31mKeyboardInterrupt\u001b[0m                      Traceback (most recent call last)",
      "\u001b[0;32m<ipython-input-28-40a04d621fa6>\u001b[0m in \u001b[0;36m<module>\u001b[0;34m\u001b[0m\n\u001b[0;32m----> 1\u001b[0;31m \u001b[0mbills\u001b[0m\u001b[0;34m[\u001b[0m\u001b[0;34m'title'\u001b[0m\u001b[0;34m]\u001b[0m \u001b[0;34m=\u001b[0m \u001b[0mbills\u001b[0m\u001b[0;34m.\u001b[0m\u001b[0mapply\u001b[0m\u001b[0;34m(\u001b[0m\u001b[0;32mlambda\u001b[0m \u001b[0mrow\u001b[0m\u001b[0;34m:\u001b[0m \u001b[0mreplace_chars\u001b[0m\u001b[0;34m(\u001b[0m\u001b[0mrow\u001b[0m\u001b[0;34m,\u001b[0m \u001b[0;34m'title'\u001b[0m\u001b[0;34m)\u001b[0m\u001b[0;34m,\u001b[0m\u001b[0maxis\u001b[0m\u001b[0;34m=\u001b[0m\u001b[0;36m1\u001b[0m\u001b[0;34m)\u001b[0m\u001b[0;34m\u001b[0m\u001b[0m\n\u001b[0m",
      "\u001b[0;32m~/anaconda3/lib/python3.6/site-packages/pandas/core/frame.py\u001b[0m in \u001b[0;36mapply\u001b[0;34m(self, func, axis, broadcast, raw, reduce, result_type, args, **kwds)\u001b[0m\n\u001b[1;32m   6012\u001b[0m                          \u001b[0margs\u001b[0m\u001b[0;34m=\u001b[0m\u001b[0margs\u001b[0m\u001b[0;34m,\u001b[0m\u001b[0;34m\u001b[0m\u001b[0m\n\u001b[1;32m   6013\u001b[0m                          kwds=kwds)\n\u001b[0;32m-> 6014\u001b[0;31m         \u001b[0;32mreturn\u001b[0m \u001b[0mop\u001b[0m\u001b[0;34m.\u001b[0m\u001b[0mget_result\u001b[0m\u001b[0;34m(\u001b[0m\u001b[0;34m)\u001b[0m\u001b[0;34m\u001b[0m\u001b[0m\n\u001b[0m\u001b[1;32m   6015\u001b[0m \u001b[0;34m\u001b[0m\u001b[0m\n\u001b[1;32m   6016\u001b[0m     \u001b[0;32mdef\u001b[0m \u001b[0mapplymap\u001b[0m\u001b[0;34m(\u001b[0m\u001b[0mself\u001b[0m\u001b[0;34m,\u001b[0m \u001b[0mfunc\u001b[0m\u001b[0;34m)\u001b[0m\u001b[0;34m:\u001b[0m\u001b[0;34m\u001b[0m\u001b[0m\n",
      "\u001b[0;32m~/anaconda3/lib/python3.6/site-packages/pandas/core/apply.py\u001b[0m in \u001b[0;36mget_result\u001b[0;34m(self)\u001b[0m\n\u001b[1;32m    140\u001b[0m             \u001b[0;32mreturn\u001b[0m \u001b[0mself\u001b[0m\u001b[0;34m.\u001b[0m\u001b[0mapply_raw\u001b[0m\u001b[0;34m(\u001b[0m\u001b[0;34m)\u001b[0m\u001b[0;34m\u001b[0m\u001b[0m\n\u001b[1;32m    141\u001b[0m \u001b[0;34m\u001b[0m\u001b[0m\n\u001b[0;32m--> 142\u001b[0;31m         \u001b[0;32mreturn\u001b[0m \u001b[0mself\u001b[0m\u001b[0;34m.\u001b[0m\u001b[0mapply_standard\u001b[0m\u001b[0;34m(\u001b[0m\u001b[0;34m)\u001b[0m\u001b[0;34m\u001b[0m\u001b[0m\n\u001b[0m\u001b[1;32m    143\u001b[0m \u001b[0;34m\u001b[0m\u001b[0m\n\u001b[1;32m    144\u001b[0m     \u001b[0;32mdef\u001b[0m \u001b[0mapply_empty_result\u001b[0m\u001b[0;34m(\u001b[0m\u001b[0mself\u001b[0m\u001b[0;34m)\u001b[0m\u001b[0;34m:\u001b[0m\u001b[0;34m\u001b[0m\u001b[0m\n",
      "\u001b[0;32m~/anaconda3/lib/python3.6/site-packages/pandas/core/apply.py\u001b[0m in \u001b[0;36mapply_standard\u001b[0;34m(self)\u001b[0m\n\u001b[1;32m    240\u001b[0m                                           \u001b[0maxis\u001b[0m\u001b[0;34m=\u001b[0m\u001b[0mself\u001b[0m\u001b[0;34m.\u001b[0m\u001b[0maxis\u001b[0m\u001b[0;34m,\u001b[0m\u001b[0;34m\u001b[0m\u001b[0m\n\u001b[1;32m    241\u001b[0m                                           \u001b[0mdummy\u001b[0m\u001b[0;34m=\u001b[0m\u001b[0mdummy\u001b[0m\u001b[0;34m,\u001b[0m\u001b[0;34m\u001b[0m\u001b[0m\n\u001b[0;32m--> 242\u001b[0;31m                                           labels=labels)\n\u001b[0m\u001b[1;32m    243\u001b[0m                 \u001b[0;32mreturn\u001b[0m \u001b[0mself\u001b[0m\u001b[0;34m.\u001b[0m\u001b[0mobj\u001b[0m\u001b[0;34m.\u001b[0m\u001b[0m_constructor_sliced\u001b[0m\u001b[0;34m(\u001b[0m\u001b[0mresult\u001b[0m\u001b[0;34m,\u001b[0m \u001b[0mindex\u001b[0m\u001b[0;34m=\u001b[0m\u001b[0mlabels\u001b[0m\u001b[0;34m)\u001b[0m\u001b[0;34m\u001b[0m\u001b[0m\n\u001b[1;32m    244\u001b[0m             \u001b[0;32mexcept\u001b[0m \u001b[0mException\u001b[0m\u001b[0;34m:\u001b[0m\u001b[0;34m\u001b[0m\u001b[0m\n",
      "\u001b[0;32mpandas/_libs/reduction.pyx\u001b[0m in \u001b[0;36mpandas._libs.reduction.reduce\u001b[0;34m()\u001b[0m\n",
      "\u001b[0;32mpandas/_libs/reduction.pyx\u001b[0m in \u001b[0;36mpandas._libs.reduction.Reducer.get_result\u001b[0;34m()\u001b[0m\n",
      "\u001b[0;32m<ipython-input-28-40a04d621fa6>\u001b[0m in \u001b[0;36m<lambda>\u001b[0;34m(row)\u001b[0m\n\u001b[0;32m----> 1\u001b[0;31m \u001b[0mbills\u001b[0m\u001b[0;34m[\u001b[0m\u001b[0;34m'title'\u001b[0m\u001b[0;34m]\u001b[0m \u001b[0;34m=\u001b[0m \u001b[0mbills\u001b[0m\u001b[0;34m.\u001b[0m\u001b[0mapply\u001b[0m\u001b[0;34m(\u001b[0m\u001b[0;32mlambda\u001b[0m \u001b[0mrow\u001b[0m\u001b[0;34m:\u001b[0m \u001b[0mreplace_chars\u001b[0m\u001b[0;34m(\u001b[0m\u001b[0mrow\u001b[0m\u001b[0;34m,\u001b[0m \u001b[0;34m'title'\u001b[0m\u001b[0;34m)\u001b[0m\u001b[0;34m,\u001b[0m\u001b[0maxis\u001b[0m\u001b[0;34m=\u001b[0m\u001b[0;36m1\u001b[0m\u001b[0;34m)\u001b[0m\u001b[0;34m\u001b[0m\u001b[0m\n\u001b[0m",
      "\u001b[0;32m<ipython-input-2-c8b25d96646f>\u001b[0m in \u001b[0;36mreplace_chars\u001b[0;34m(row, column_name)\u001b[0m\n\u001b[1;32m      1\u001b[0m \u001b[0;32mdef\u001b[0m \u001b[0mreplace_chars\u001b[0m\u001b[0;34m(\u001b[0m\u001b[0mrow\u001b[0m\u001b[0;34m,\u001b[0m \u001b[0mcolumn_name\u001b[0m\u001b[0;34m)\u001b[0m\u001b[0;34m:\u001b[0m\u001b[0;34m\u001b[0m\u001b[0m\n\u001b[0;32m----> 2\u001b[0;31m     \u001b[0;32mreturn\u001b[0m \u001b[0mre\u001b[0m\u001b[0;34m.\u001b[0m\u001b[0msub\u001b[0m\u001b[0;34m(\u001b[0m\u001b[0;34m'[,;]*'\u001b[0m\u001b[0;34m,\u001b[0m \u001b[0;34m''\u001b[0m\u001b[0;34m,\u001b[0m \u001b[0mrow\u001b[0m\u001b[0;34m[\u001b[0m\u001b[0mcolumn_name\u001b[0m\u001b[0;34m]\u001b[0m\u001b[0;34m)\u001b[0m\u001b[0;34m\u001b[0m\u001b[0m\n\u001b[0m",
      "\u001b[0;32m~/anaconda3/lib/python3.6/site-packages/pandas/core/series.py\u001b[0m in \u001b[0;36m__getitem__\u001b[0;34m(self, key)\u001b[0m\n\u001b[1;32m    765\u001b[0m         \u001b[0mkey\u001b[0m \u001b[0;34m=\u001b[0m \u001b[0mcom\u001b[0m\u001b[0;34m.\u001b[0m\u001b[0m_apply_if_callable\u001b[0m\u001b[0;34m(\u001b[0m\u001b[0mkey\u001b[0m\u001b[0;34m,\u001b[0m \u001b[0mself\u001b[0m\u001b[0;34m)\u001b[0m\u001b[0;34m\u001b[0m\u001b[0m\n\u001b[1;32m    766\u001b[0m         \u001b[0;32mtry\u001b[0m\u001b[0;34m:\u001b[0m\u001b[0;34m\u001b[0m\u001b[0m\n\u001b[0;32m--> 767\u001b[0;31m             \u001b[0mresult\u001b[0m \u001b[0;34m=\u001b[0m \u001b[0mself\u001b[0m\u001b[0;34m.\u001b[0m\u001b[0mindex\u001b[0m\u001b[0;34m.\u001b[0m\u001b[0mget_value\u001b[0m\u001b[0;34m(\u001b[0m\u001b[0mself\u001b[0m\u001b[0;34m,\u001b[0m \u001b[0mkey\u001b[0m\u001b[0;34m)\u001b[0m\u001b[0;34m\u001b[0m\u001b[0m\n\u001b[0m\u001b[1;32m    768\u001b[0m \u001b[0;34m\u001b[0m\u001b[0m\n\u001b[1;32m    769\u001b[0m             \u001b[0;32mif\u001b[0m \u001b[0;32mnot\u001b[0m \u001b[0mis_scalar\u001b[0m\u001b[0;34m(\u001b[0m\u001b[0mresult\u001b[0m\u001b[0;34m)\u001b[0m\u001b[0;34m:\u001b[0m\u001b[0;34m\u001b[0m\u001b[0m\n",
      "\u001b[0;32m~/anaconda3/lib/python3.6/site-packages/pandas/core/indexes/base.py\u001b[0m in \u001b[0;36mget_value\u001b[0;34m(self, series, key)\u001b[0m\n\u001b[1;32m   3116\u001b[0m         \u001b[0;32mtry\u001b[0m\u001b[0;34m:\u001b[0m\u001b[0;34m\u001b[0m\u001b[0m\n\u001b[1;32m   3117\u001b[0m             return self._engine.get_value(s, k,\n\u001b[0;32m-> 3118\u001b[0;31m                                           tz=getattr(series.dtype, 'tz', None))\n\u001b[0m\u001b[1;32m   3119\u001b[0m         \u001b[0;32mexcept\u001b[0m \u001b[0mKeyError\u001b[0m \u001b[0;32mas\u001b[0m \u001b[0me1\u001b[0m\u001b[0;34m:\u001b[0m\u001b[0;34m\u001b[0m\u001b[0m\n\u001b[1;32m   3120\u001b[0m             \u001b[0;32mif\u001b[0m \u001b[0mlen\u001b[0m\u001b[0;34m(\u001b[0m\u001b[0mself\u001b[0m\u001b[0;34m)\u001b[0m \u001b[0;34m>\u001b[0m \u001b[0;36m0\u001b[0m \u001b[0;32mand\u001b[0m \u001b[0mself\u001b[0m\u001b[0;34m.\u001b[0m\u001b[0minferred_type\u001b[0m \u001b[0;32min\u001b[0m \u001b[0;34m[\u001b[0m\u001b[0;34m'integer'\u001b[0m\u001b[0;34m,\u001b[0m \u001b[0;34m'boolean'\u001b[0m\u001b[0;34m]\u001b[0m\u001b[0;34m:\u001b[0m\u001b[0;34m\u001b[0m\u001b[0m\n",
      "\u001b[0;31mKeyboardInterrupt\u001b[0m: "
     ]
    }
   ],
   "source": [
    "bills['title'] = bills.apply(lambda row: replace_chars(row, 'title'),axis=1)"
   ]
  },
  {
   "cell_type": "markdown",
   "metadata": {},
   "source": [
    "### Grouping"
   ]
  },
  {
   "cell_type": "code",
   "execution_count": null,
   "metadata": {},
   "outputs": [],
   "source": [
    "# Before:\n",
    "bills_count = bills.groupby(['congress', 'party', 'major', 'state', 'status']).size()\n",
    "grouped_bills_count = bills_count.to_frame()\n",
    "grouped_bills_count.columns = ['count']\n",
    "grouped_bills_count.head(5)\n",
    "\n",
    "# # Testing:\n",
    "# bills_count = bills.groupby(['congress', 'party', 'major', 'state', 'status'], as_index=False)['idNEW'].agg('count')\n",
    "# # bills_count[bills_count['congress']==115]['idNEW'].sum()\n",
    "\n",
    "# bills_count.set_index(['congress', 'party', 'major', 'state', 'status'], inplace=True)\n",
    "# bills_count.rename(columns={'idNEW':'count'}, inplace=True)\n",
    "# bills_count.iloc[grouped_bills_count.index.get_level_values('congress') == 115]['count'].sum()# bills_count.head()"
   ]
  },
  {
   "cell_type": "code",
   "execution_count": null,
   "metadata": {},
   "outputs": [],
   "source": [
    "grouped_bills_count.iloc[\n",
    "    grouped_bills_count.index.get_level_values('congress') == 115]['count'].sum()# bills_count.head()"
   ]
  },
  {
   "cell_type": "code",
   "execution_count": null,
   "metadata": {},
   "outputs": [],
   "source": [
    "grouped_id_list = bills.groupby(['congress', 'party', 'major', 'state', 'status'], as_index=False)['idNEW'].agg(\n",
    "    {'id_list':(lambda x: list(x))})\n",
    "grouped_id_list.set_index(['congress', 'party', 'major', 'state', 'status'], inplace=True)\n",
    "grouped_id_list.head(5)"
   ]
  },
  {
   "cell_type": "code",
   "execution_count": null,
   "metadata": {},
   "outputs": [],
   "source": [
    "grouped_url_list = bills.groupby(['congress', 'party', 'major', 'state', 'status'], as_index=False)['url'].agg(\n",
    "    {'url_list':(lambda x: list(x))})\n",
    "grouped_url_list.set_index(['congress', 'party', 'major', 'state', 'status'], inplace=True)\n",
    "grouped_url_list.head(5)"
   ]
  },
  {
   "cell_type": "code",
   "execution_count": null,
   "metadata": {},
   "outputs": [],
   "source": [
    "grouped_title_list = bills.groupby(['congress', 'party', 'major', 'state', 'status'], as_index=False)['title'].agg(\n",
    "    {'title_list':(lambda x: list(x))})\n",
    "grouped_title_list.set_index(['congress', 'party', 'major', 'state', 'status'], inplace=True)\n",
    "grouped_title_list.head(5)"
   ]
  },
  {
   "cell_type": "code",
   "execution_count": null,
   "metadata": {},
   "outputs": [],
   "source": [
    "grouped_bills = pd.merge(grouped_id_list, grouped_url_list, left_index=True, right_index=True)\n",
    "grouped_bills = pd.merge(grouped_bills, grouped_title_list, left_index=True, right_index=True)\n",
    "grouped_bills = pd.merge(grouped_bills, grouped_bills_count, left_index=True, right_index=True)\n",
    "grouped_bills.head(5)"
   ]
  },
  {
   "cell_type": "code",
   "execution_count": null,
   "metadata": {},
   "outputs": [],
   "source": [
    "final_grouped = pd.DataFrame(index=grouped_bills.index) \n",
    "final_grouped['id_list'] = [ ';'.join([str(x) for x in row]) for row in grouped_bills['id_list']]\n",
    "final_grouped['url_list'] = [ ';'.join([str(x) for x in row]) for row in grouped_bills['url_list']]\n",
    "final_grouped['title_list'] = [ ';'.join([str(x) for x in row]) for row in grouped_bills['title_list']]\n",
    "final_grouped['count'] = grouped_bills_count['count']\n",
    "# final_grouped['congress'] = final_grouped['Cong']\n",
    "# final_grouped['party'] = final_grouped['SpParty']\n",
    "# final_grouped['major'] = final_grouped['Major']\n",
    "# final_grouped['state'] = final_grouped['SpState']\n",
    "# final_grouped = final_grouped[['congress','party','major','state','id_list','url_list','count']]\n",
    "# final_grouped.index.names = ['congress', 'party', 'major', 'state', 'status']\n",
    "final_grouped.head()"
   ]
  },
  {
   "cell_type": "code",
   "execution_count": null,
   "metadata": {},
   "outputs": [],
   "source": [
    "final_grouped.to_csv('../project/app/data/grouped_bills.csv', sep=',', encoding='utf-8', escapechar=';')"
   ]
  },
  {
   "cell_type": "code",
   "execution_count": null,
   "metadata": {},
   "outputs": [],
   "source": []
  },
  {
   "cell_type": "code",
   "execution_count": null,
   "metadata": {},
   "outputs": [],
   "source": []
  },
  {
   "cell_type": "code",
   "execution_count": null,
   "metadata": {},
   "outputs": [],
   "source": [
    "# def replace_chars(row, column_name):\n",
    "#     return re.sub('[,;]*', '', row[column_name])\n",
    "\n",
    "# df = pd.DataFrame()\n",
    "# df['hello'] = ['good,,,morn;;;', 'g;;ood,ni,ght']\n",
    "# df['hello'] = df.apply(lambda row: replace_chars(row, 'hello'),axis=1)\n",
    "# df"
   ]
  },
  {
   "cell_type": "code",
   "execution_count": null,
   "metadata": {},
   "outputs": [],
   "source": []
  }
 ],
 "metadata": {
  "kernelspec": {
   "display_name": "Python 3",
   "language": "python",
   "name": "python3"
  },
  "language_info": {
   "codemirror_mode": {
    "name": "ipython",
    "version": 3
   },
   "file_extension": ".py",
   "mimetype": "text/x-python",
   "name": "python",
   "nbconvert_exporter": "python",
   "pygments_lexer": "ipython3",
   "version": "3.6.0"
  }
 },
 "nbformat": 4,
 "nbformat_minor": 2
}
