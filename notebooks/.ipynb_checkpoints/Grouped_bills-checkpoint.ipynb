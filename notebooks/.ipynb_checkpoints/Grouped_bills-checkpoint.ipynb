{
 "cells": [
  {
   "cell_type": "code",
   "execution_count": 1,
   "metadata": {},
   "outputs": [],
   "source": [
    "import pandas as pd\n",
    "import csv\n",
    "import time\n",
    "import math"
   ]
  },
  {
   "cell_type": "code",
   "execution_count": 2,
   "metadata": {},
   "outputs": [],
   "source": [
    "def rearrange_csv_columns(path):\n",
    "    new_path = '/'.join(path.split('/')[:-1]) + '/new_' + path.split('/')[-1]\n",
    "    num_of_cols = 35\n",
    "    prob_col =  11\n",
    "    prob_string_list = [' Jr.\"' , ' Jr.']\n",
    "     \n",
    "    with open(path, \"r\") as f_in, open(new_path, \"w\") as f_out:\n",
    "        reader = csv.reader(f_in)\n",
    "        writer = csv.writer(f_out)\n",
    "        for row in reader:\n",
    "            if len(row) == num_of_cols + 1:\n",
    "                assert row[prob_col] in prob_string_list, row[prob_col] + ' -> id:' + str(row[0])\n",
    "                new_row[:prob_col-1] = row[:prob_col-1]\n",
    "                new_row[prob_col-1] = row[prob_col-1] + row[prob_col]\n",
    "                new_row[prob_col:] = row[prob_col+1:]\n",
    "            else:\n",
    "                new_row = row\n",
    "\n",
    "            writer.writerow(new_row)\n",
    "\n",
    "    f_in.close()\n",
    "    f_out.close()\n",
    "    \n",
    "    return new_path"
   ]
  },
  {
   "cell_type": "code",
   "execution_count": 3,
   "metadata": {},
   "outputs": [],
   "source": [
    "# subjects 11, 22 are missing => 21 subjects in total\n",
    "subjects_dict = dict()\n",
    "with open('../project/app/data/policy_agenda.csv', \"r\") as f_in:\n",
    "    reader = csv.reader(f_in)\n",
    "    for row in reader:\n",
    "        subjects_dict[float(row[0])] = row[1]\n",
    "    f_in.close()"
   ]
  },
  {
   "cell_type": "markdown",
   "metadata": {},
   "source": [
    "##### inner bills file"
   ]
  },
  {
   "cell_type": "code",
   "execution_count": 4,
   "metadata": {},
   "outputs": [],
   "source": [
    "# _ = rearrange_csv_columns('data/bills.csv')\n",
    "bills_initial = pd.read_csv('../data/new_bills.csv', low_memory=False)"
   ]
  },
  {
   "cell_type": "code",
   "execution_count": 5,
   "metadata": {},
   "outputs": [],
   "source": [
    "bills_initial = bills_initial[ bills_initial['isBill'] == 1]"
   ]
  },
  {
   "cell_type": "code",
   "execution_count": 6,
   "metadata": {
    "scrolled": true
   },
   "outputs": [
    {
     "name": "stdout",
     "output_type": "stream",
     "text": [
      "(236317, 35)\n",
      "Index(['idNEW', 'idOLD', 'BillNum', 'BillType', 'Cong', 'IntrDate',\n",
      "       'ShortTitle', 'OfficialTitle', 'PopTitle', 'SpThomasID', 'SpName',\n",
      "       'SpState', 'SpDist', 'UpdatedAt', 'CoSpThID', 'PLawNo', 'MinorBill',\n",
      "       'PLawNoFull', 'compLaw', 'Major', 'Minor', 'ChRef', 'RankRef', 'MemRef',\n",
      "       'SubChRef', 'SubRankRef', 'ImpBill', 'URL', 'isBill', 'Majority',\n",
      "       'Senate', 'LeadRef', 'SpParty', 'commRefs', 'timestamp'],\n",
      "      dtype='object')\n",
      "[ 93  94  95  96  97  98  99 100 101 102 103 104 105 106 107 108 109 110\n",
      " 111 112 113 114]\n",
      "[20.  6.  4. 16.  1. 14.  7.  5. 17. 13. 10. 21.  2. 15.  3. 12. 99.  8.\n",
      " 18. 19.  9. nan]\n"
     ]
    }
   ],
   "source": [
    "print(bills_initial.shape)\n",
    "print(bills_initial.columns)\n",
    "print(bills_initial.Cong.unique())\n",
    "print(bills_initial.Major.unique())"
   ]
  },
  {
   "cell_type": "code",
   "execution_count": 7,
   "metadata": {},
   "outputs": [],
   "source": [
    "BILL_COLUMNS = ['Cong', 'SpParty', 'Major', 'SpState', 'idNEW', 'URL', 'OfficialTitle']\n",
    "# bills_initial = bills_initial[BILL_COLUMNS]"
   ]
  },
  {
   "cell_type": "code",
   "execution_count": 8,
   "metadata": {},
   "outputs": [],
   "source": [
    "bills = pd.DataFrame(index=bills_initial.index)\n",
    "bills[BILL_COLUMNS] = bills_initial[BILL_COLUMNS]\n",
    "bills['Major'] = bills_initial['Major'].map(subjects_dict) \n",
    "bills['Major'].fillna('Other', inplace=True)"
   ]
  },
  {
   "cell_type": "code",
   "execution_count": 9,
   "metadata": {},
   "outputs": [
    {
     "name": "stdout",
     "output_type": "stream",
     "text": [
      "(236317, 7)\n",
      "Index(['Cong', 'SpParty', 'Major', 'SpState', 'idNEW', 'URL', 'OfficialTitle'], dtype='object')\n"
     ]
    },
    {
     "data": {
      "text/html": [
       "<div>\n",
       "<style scoped>\n",
       "    .dataframe tbody tr th:only-of-type {\n",
       "        vertical-align: middle;\n",
       "    }\n",
       "\n",
       "    .dataframe tbody tr th {\n",
       "        vertical-align: top;\n",
       "    }\n",
       "\n",
       "    .dataframe thead th {\n",
       "        text-align: right;\n",
       "    }\n",
       "</style>\n",
       "<table border=\"1\" class=\"dataframe\">\n",
       "  <thead>\n",
       "    <tr style=\"text-align: right;\">\n",
       "      <th></th>\n",
       "      <th>Cong</th>\n",
       "      <th>SpParty</th>\n",
       "      <th>Major</th>\n",
       "      <th>SpState</th>\n",
       "      <th>idNEW</th>\n",
       "      <th>URL</th>\n",
       "      <th>OfficialTitle</th>\n",
       "    </tr>\n",
       "  </thead>\n",
       "  <tbody>\n",
       "    <tr>\n",
       "      <th>0</th>\n",
       "      <td>93</td>\n",
       "      <td>D</td>\n",
       "      <td>Government Operations</td>\n",
       "      <td>IL</td>\n",
       "      <td>1</td>\n",
       "      <td>http://beta.congress.gov/bill/93th-congress/ho...</td>\n",
       "      <td>A bill to provide for the establishment of an ...</td>\n",
       "    </tr>\n",
       "  </tbody>\n",
       "</table>\n",
       "</div>"
      ],
      "text/plain": [
       "   Cong SpParty                  Major SpState  idNEW  \\\n",
       "0    93       D  Government Operations      IL      1   \n",
       "\n",
       "                                                 URL  \\\n",
       "0  http://beta.congress.gov/bill/93th-congress/ho...   \n",
       "\n",
       "                                       OfficialTitle  \n",
       "0  A bill to provide for the establishment of an ...  "
      ]
     },
     "execution_count": 9,
     "metadata": {},
     "output_type": "execute_result"
    }
   ],
   "source": [
    "print(bills.shape)\n",
    "print(bills.columns)\n",
    "bills.head(1)"
   ]
  },
  {
   "cell_type": "markdown",
   "metadata": {},
   "source": [
    "### Actions"
   ]
  },
  {
   "cell_type": "code",
   "execution_count": 10,
   "metadata": {},
   "outputs": [
    {
     "name": "stdout",
     "output_type": "stream",
     "text": [
      "(828172, 14)\n",
      "Index(['billID', 'bill', 'cong', 'billtype', 'acted_at', 'loc', 'status',\n",
      "       'actno', 'subbill', 'phrase', 'manUpdate', 'goodDate', 'timestamp',\n",
      "       'actionID'],\n",
      "      dtype='object')\n",
      "['INT' 'COMM' 'REP' 'PASSO' 'PASSB' 'WAIT' 'SIGN' 'LAW' 'PASS' 'DISC'\n",
      " 'CREP' 'VETO' 'RESA' 'RULP' 'CAL' 'PASSC' 'CONF' 'PASSV2' 'CONS' 'PASSV']\n"
     ]
    }
   ],
   "source": [
    "actions = pd.read_csv('../data/actions.csv', low_memory=False)\n",
    "\n",
    "print(actions.shape)\n",
    "print(actions.columns)\n",
    "print(actions.status.unique())"
   ]
  },
  {
   "cell_type": "code",
   "execution_count": 11,
   "metadata": {},
   "outputs": [],
   "source": [
    "bills = pd.merge(bills, actions[['status']], left_index=True, right_index=True)"
   ]
  },
  {
   "cell_type": "code",
   "execution_count": 12,
   "metadata": {},
   "outputs": [
    {
     "name": "stdout",
     "output_type": "stream",
     "text": [
      "(236317, 8)\n",
      "Index(['Cong', 'SpParty', 'Major', 'SpState', 'idNEW', 'URL', 'OfficialTitle',\n",
      "       'status'],\n",
      "      dtype='object')\n"
     ]
    },
    {
     "data": {
      "text/html": [
       "<div>\n",
       "<style scoped>\n",
       "    .dataframe tbody tr th:only-of-type {\n",
       "        vertical-align: middle;\n",
       "    }\n",
       "\n",
       "    .dataframe tbody tr th {\n",
       "        vertical-align: top;\n",
       "    }\n",
       "\n",
       "    .dataframe thead th {\n",
       "        text-align: right;\n",
       "    }\n",
       "</style>\n",
       "<table border=\"1\" class=\"dataframe\">\n",
       "  <thead>\n",
       "    <tr style=\"text-align: right;\">\n",
       "      <th></th>\n",
       "      <th>Cong</th>\n",
       "      <th>SpParty</th>\n",
       "      <th>Major</th>\n",
       "      <th>SpState</th>\n",
       "      <th>idNEW</th>\n",
       "      <th>URL</th>\n",
       "      <th>OfficialTitle</th>\n",
       "      <th>status</th>\n",
       "    </tr>\n",
       "  </thead>\n",
       "  <tbody>\n",
       "    <tr>\n",
       "      <th>0</th>\n",
       "      <td>93</td>\n",
       "      <td>D</td>\n",
       "      <td>Government Operations</td>\n",
       "      <td>IL</td>\n",
       "      <td>1</td>\n",
       "      <td>http://beta.congress.gov/bill/93th-congress/ho...</td>\n",
       "      <td>A bill to provide for the establishment of an ...</td>\n",
       "      <td>INT</td>\n",
       "    </tr>\n",
       "  </tbody>\n",
       "</table>\n",
       "</div>"
      ],
      "text/plain": [
       "   Cong SpParty                  Major SpState  idNEW  \\\n",
       "0    93       D  Government Operations      IL      1   \n",
       "\n",
       "                                                 URL  \\\n",
       "0  http://beta.congress.gov/bill/93th-congress/ho...   \n",
       "\n",
       "                                       OfficialTitle status  \n",
       "0  A bill to provide for the establishment of an ...    INT  "
      ]
     },
     "execution_count": 12,
     "metadata": {},
     "output_type": "execute_result"
    }
   ],
   "source": [
    "print(bills.shape)\n",
    "print(bills.columns)\n",
    "bills.head(1)"
   ]
  },
  {
   "cell_type": "code",
   "execution_count": 13,
   "metadata": {},
   "outputs": [],
   "source": [
    "def define_status(row):\n",
    "    if row['status'] == 'LAW' :\n",
    "        return 'passed'\n",
    "    else:\n",
    "        return 'not_passed'"
   ]
  },
  {
   "cell_type": "code",
   "execution_count": 14,
   "metadata": {},
   "outputs": [],
   "source": [
    "bills['is_bill'] = bills.apply(lambda row: define_status(row),axis=1)"
   ]
  },
  {
   "cell_type": "code",
   "execution_count": 15,
   "metadata": {},
   "outputs": [],
   "source": [
    "BILL_COLUMNS = ['Cong', 'SpParty', 'Major', 'SpState', 'idNEW', 'URL', 'OfficialTitle', 'status']\n",
    "bills['status'] = bills['is_bill']\n",
    "bills = bills[BILL_COLUMNS]\n",
    "# bills.columns = ['congress', 'party', 'major', 'state', 'idNEW', 'url', 'title', 'status']"
   ]
  },
  {
   "cell_type": "code",
   "execution_count": 16,
   "metadata": {},
   "outputs": [],
   "source": [
    "bills.rename(columns={'Cong':'congress', 'SpParty':'party', 'Major':'major', 'SpState':'state', \n",
    "                      'URL':'url', 'OfficialTitle':'title'}, inplace=True)"
   ]
  },
  {
   "cell_type": "code",
   "execution_count": 17,
   "metadata": {},
   "outputs": [
    {
     "name": "stdout",
     "output_type": "stream",
     "text": [
      "(236317, 8)\n",
      "Index(['congress', 'party', 'major', 'state', 'idNEW', 'url', 'title',\n",
      "       'status'],\n",
      "      dtype='object')\n"
     ]
    },
    {
     "data": {
      "text/html": [
       "<div>\n",
       "<style scoped>\n",
       "    .dataframe tbody tr th:only-of-type {\n",
       "        vertical-align: middle;\n",
       "    }\n",
       "\n",
       "    .dataframe tbody tr th {\n",
       "        vertical-align: top;\n",
       "    }\n",
       "\n",
       "    .dataframe thead th {\n",
       "        text-align: right;\n",
       "    }\n",
       "</style>\n",
       "<table border=\"1\" class=\"dataframe\">\n",
       "  <thead>\n",
       "    <tr style=\"text-align: right;\">\n",
       "      <th></th>\n",
       "      <th>congress</th>\n",
       "      <th>party</th>\n",
       "      <th>major</th>\n",
       "      <th>state</th>\n",
       "      <th>idNEW</th>\n",
       "      <th>url</th>\n",
       "      <th>title</th>\n",
       "      <th>status</th>\n",
       "    </tr>\n",
       "  </thead>\n",
       "  <tbody>\n",
       "    <tr>\n",
       "      <th>0</th>\n",
       "      <td>93</td>\n",
       "      <td>D</td>\n",
       "      <td>Government Operations</td>\n",
       "      <td>IL</td>\n",
       "      <td>1</td>\n",
       "      <td>http://beta.congress.gov/bill/93th-congress/ho...</td>\n",
       "      <td>A bill to provide for the establishment of an ...</td>\n",
       "      <td>not_passed</td>\n",
       "    </tr>\n",
       "  </tbody>\n",
       "</table>\n",
       "</div>"
      ],
      "text/plain": [
       "   congress party                  major state  idNEW  \\\n",
       "0        93     D  Government Operations    IL      1   \n",
       "\n",
       "                                                 url  \\\n",
       "0  http://beta.congress.gov/bill/93th-congress/ho...   \n",
       "\n",
       "                                               title      status  \n",
       "0  A bill to provide for the establishment of an ...  not_passed  "
      ]
     },
     "execution_count": 17,
     "metadata": {},
     "output_type": "execute_result"
    }
   ],
   "source": [
    "print(bills.shape)\n",
    "print(bills.columns)\n",
    "bills.head(1)"
   ]
  },
  {
   "cell_type": "markdown",
   "metadata": {},
   "source": [
    "### Congress 115"
   ]
  },
  {
   "cell_type": "code",
   "execution_count": 18,
   "metadata": {},
   "outputs": [],
   "source": [
    "bills_115_intro = pd.read_csv('../data/bills_115.csv', low_memory=False)\n",
    "bills_115_intro['status'] = 'not_passed'\n",
    "bills_115_passed = pd.read_csv('../data/bills_115_passed.csv', low_memory=False)\n",
    "bills_115_passedm = 'passed'"
   ]
  },
  {
   "cell_type": "code",
   "execution_count": 19,
   "metadata": {},
   "outputs": [
    {
     "name": "stdout",
     "output_type": "stream",
     "text": [
      "(4574, 7) (531, 6)\n"
     ]
    },
    {
     "data": {
      "text/plain": [
       "set()"
      ]
     },
     "execution_count": 19,
     "metadata": {},
     "output_type": "execute_result"
    }
   ],
   "source": [
    "print(bills_115_intro.shape, bills_115_passed.shape)\n",
    "set.intersection(set(bills_115_intro.bill_id.values), set(bills_115_passed))"
   ]
  },
  {
   "cell_type": "code",
   "execution_count": 20,
   "metadata": {},
   "outputs": [
    {
     "name": "stderr",
     "output_type": "stream",
     "text": [
      "/home/foivos/anaconda3/lib/python3.7/site-packages/ipykernel_launcher.py:1: FutureWarning: Sorting because non-concatenation axis is not aligned. A future version\n",
      "of pandas will change to not sort by default.\n",
      "\n",
      "To accept the future behavior, pass 'sort=False'.\n",
      "\n",
      "To retain the current behavior and silence the warning, pass 'sort=True'.\n",
      "\n",
      "  \"\"\"Entry point for launching an IPython kernel.\n"
     ]
    },
    {
     "data": {
      "text/html": [
       "<div>\n",
       "<style scoped>\n",
       "    .dataframe tbody tr th:only-of-type {\n",
       "        vertical-align: middle;\n",
       "    }\n",
       "\n",
       "    .dataframe tbody tr th {\n",
       "        vertical-align: top;\n",
       "    }\n",
       "\n",
       "    .dataframe thead th {\n",
       "        text-align: right;\n",
       "    }\n",
       "</style>\n",
       "<table border=\"1\" class=\"dataframe\">\n",
       "  <thead>\n",
       "    <tr style=\"text-align: right;\">\n",
       "      <th></th>\n",
       "      <th>bill_id</th>\n",
       "      <th>congressdotgov_url</th>\n",
       "      <th>primary_subject</th>\n",
       "      <th>sponsor_party</th>\n",
       "      <th>sponsor_state</th>\n",
       "      <th>status</th>\n",
       "      <th>title</th>\n",
       "      <th>congress</th>\n",
       "    </tr>\n",
       "  </thead>\n",
       "  <tbody>\n",
       "    <tr>\n",
       "      <th>0</th>\n",
       "      <td>sres717-115</td>\n",
       "      <td>https://www.congress.gov/bill/115th-congress/s...</td>\n",
       "      <td>NaN</td>\n",
       "      <td>D</td>\n",
       "      <td>CA</td>\n",
       "      <td>not_passed</td>\n",
       "      <td>A resolution honoring the life and legacy of R...</td>\n",
       "      <td>115</td>\n",
       "    </tr>\n",
       "  </tbody>\n",
       "</table>\n",
       "</div>"
      ],
      "text/plain": [
       "       bill_id                                 congressdotgov_url  \\\n",
       "0  sres717-115  https://www.congress.gov/bill/115th-congress/s...   \n",
       "\n",
       "  primary_subject sponsor_party sponsor_state      status  \\\n",
       "0             NaN             D            CA  not_passed   \n",
       "\n",
       "                                               title  congress  \n",
       "0  A resolution honoring the life and legacy of R...       115  "
      ]
     },
     "execution_count": 20,
     "metadata": {},
     "output_type": "execute_result"
    }
   ],
   "source": [
    "bills_115 = pd.concat([bills_115_intro, bills_115_passed], ignore_index=True)\n",
    "bills_115['congress'] = 115\n",
    "# bills_115.columns = ['idNEW', 'party', 'major', 'state', 'url', 'title', 'congress', 'status']"
   ]
  },
  {
   "cell_type": "code",
   "execution_count": 36,
   "metadata": {},
   "outputs": [],
   "source": [
    "bills_115.rename(columns={'bill_id':'idNEW', 'sponsor_party':'party', 'primary_subject':'major', 'sponsor_state':'state', \n",
    "                      'congressdotgov_url':'url'}, inplace=True)\n",
    "bills_115 = bills_115[['congress', 'party', 'major', 'state', 'idNEW', 'url', 'title', 'status']]"
   ]
  },
  {
   "cell_type": "code",
   "execution_count": 30,
   "metadata": {},
   "outputs": [],
   "source": [
    "transformation_dict = dict()\n",
    "with open('../project/app/data/major_matching.txt', \"r\") as f_in:\n",
    "    lines = f_in.readlines()\n",
    "    f_in.close()\n",
    "\n",
    "for line in lines:\n",
    "    entry = line.split(';')\n",
    "    transformation_dict[entry[0]] = subjects_dict[\n",
    "        float(entry[1].replace('\\n', ''))]\n",
    "    \n",
    "bills_115['major'] = bills_115['major'].map(transformation_dict) "
   ]
  },
  {
   "cell_type": "code",
   "execution_count": 31,
   "metadata": {},
   "outputs": [
    {
     "name": "stdout",
     "output_type": "stream",
     "text": [
      "(5105, 8)\n"
     ]
    },
    {
     "data": {
      "text/html": [
       "<div>\n",
       "<style scoped>\n",
       "    .dataframe tbody tr th:only-of-type {\n",
       "        vertical-align: middle;\n",
       "    }\n",
       "\n",
       "    .dataframe tbody tr th {\n",
       "        vertical-align: top;\n",
       "    }\n",
       "\n",
       "    .dataframe thead th {\n",
       "        text-align: right;\n",
       "    }\n",
       "</style>\n",
       "<table border=\"1\" class=\"dataframe\">\n",
       "  <thead>\n",
       "    <tr style=\"text-align: right;\">\n",
       "      <th></th>\n",
       "      <th>congress</th>\n",
       "      <th>party</th>\n",
       "      <th>major</th>\n",
       "      <th>state</th>\n",
       "      <th>idNEW</th>\n",
       "      <th>url</th>\n",
       "      <th>title</th>\n",
       "      <th>status</th>\n",
       "    </tr>\n",
       "  </thead>\n",
       "  <tbody>\n",
       "    <tr>\n",
       "      <th>0</th>\n",
       "      <td>115</td>\n",
       "      <td>D</td>\n",
       "      <td>NaN</td>\n",
       "      <td>CA</td>\n",
       "      <td>sres717-115</td>\n",
       "      <td>https://www.congress.gov/bill/115th-congress/s...</td>\n",
       "      <td>A resolution honoring the life and legacy of R...</td>\n",
       "      <td>not_passed</td>\n",
       "    </tr>\n",
       "  </tbody>\n",
       "</table>\n",
       "</div>"
      ],
      "text/plain": [
       "   congress party major state        idNEW  \\\n",
       "0       115     D   NaN    CA  sres717-115   \n",
       "\n",
       "                                                 url  \\\n",
       "0  https://www.congress.gov/bill/115th-congress/s...   \n",
       "\n",
       "                                               title      status  \n",
       "0  A resolution honoring the life and legacy of R...  not_passed  "
      ]
     },
     "execution_count": 31,
     "metadata": {},
     "output_type": "execute_result"
    }
   ],
   "source": [
    "print(bills_115.shape)\n",
    "bills_115.head(1)"
   ]
  },
  {
   "cell_type": "code",
   "execution_count": 35,
   "metadata": {
    "scrolled": true
   },
   "outputs": [
    {
     "data": {
      "text/plain": [
       "array(['CA', 'NJ', 'CT', 'TX', 'MN', 'MA', 'NE', 'LA', 'VA', 'OR', 'NH',\n",
       "       'CO', 'AZ', 'IL', 'OH', 'IA', 'NM', 'SC', 'OK', 'KY', 'MO', 'UT',\n",
       "       'FL', 'MD', 'ND', 'MT', 'IN', 'MI', 'NY', 'GA', 'PA', 'ME', 'AK',\n",
       "       'AR', 'WI', 'HI', 'DE', 'NC', 'MS', 'ID', 'WA', 'SD', 'VT', 'WY',\n",
       "       'TN', 'RI', 'NV', 'WV', 'AL', 'KS', 'DC', 'MP', 'AS'], dtype=object)"
      ]
     },
     "execution_count": 35,
     "metadata": {},
     "output_type": "execute_result"
    }
   ],
   "source": [
    "bills_115.state.unique()"
   ]
  },
  {
   "cell_type": "code",
   "execution_count": 32,
   "metadata": {},
   "outputs": [
    {
     "name": "stdout",
     "output_type": "stream",
     "text": [
      "(241422, 8)\n"
     ]
    },
    {
     "data": {
      "text/html": [
       "<div>\n",
       "<style scoped>\n",
       "    .dataframe tbody tr th:only-of-type {\n",
       "        vertical-align: middle;\n",
       "    }\n",
       "\n",
       "    .dataframe tbody tr th {\n",
       "        vertical-align: top;\n",
       "    }\n",
       "\n",
       "    .dataframe thead th {\n",
       "        text-align: right;\n",
       "    }\n",
       "</style>\n",
       "<table border=\"1\" class=\"dataframe\">\n",
       "  <thead>\n",
       "    <tr style=\"text-align: right;\">\n",
       "      <th></th>\n",
       "      <th>congress</th>\n",
       "      <th>party</th>\n",
       "      <th>major</th>\n",
       "      <th>state</th>\n",
       "      <th>idNEW</th>\n",
       "      <th>url</th>\n",
       "      <th>title</th>\n",
       "      <th>status</th>\n",
       "    </tr>\n",
       "  </thead>\n",
       "  <tbody>\n",
       "    <tr>\n",
       "      <th>0</th>\n",
       "      <td>93</td>\n",
       "      <td>D</td>\n",
       "      <td>Government Operations</td>\n",
       "      <td>IL</td>\n",
       "      <td>1</td>\n",
       "      <td>http://beta.congress.gov/bill/93th-congress/ho...</td>\n",
       "      <td>A bill to provide for the establishment of an ...</td>\n",
       "      <td>not_passed</td>\n",
       "    </tr>\n",
       "  </tbody>\n",
       "</table>\n",
       "</div>"
      ],
      "text/plain": [
       "   congress party                  major state idNEW  \\\n",
       "0        93     D  Government Operations    IL     1   \n",
       "\n",
       "                                                 url  \\\n",
       "0  http://beta.congress.gov/bill/93th-congress/ho...   \n",
       "\n",
       "                                               title      status  \n",
       "0  A bill to provide for the establishment of an ...  not_passed  "
      ]
     },
     "execution_count": 32,
     "metadata": {},
     "output_type": "execute_result"
    }
   ],
   "source": [
    "# test = pd.merge(bills, bills_115,  how='outer', left_on='idNEW', right_on = 'idNEW')\n",
    "test = pd.concat([bills, bills_115], ignore_index=True)\n",
    "print(test.shape)\n",
    "test.head(1)"
   ]
  },
  {
   "cell_type": "code",
   "execution_count": null,
   "metadata": {},
   "outputs": [],
   "source": []
  },
  {
   "cell_type": "markdown",
   "metadata": {},
   "source": [
    "### Grouping"
   ]
  },
  {
   "cell_type": "code",
   "execution_count": null,
   "metadata": {},
   "outputs": [],
   "source": [
    "bills_count = bills.groupby(['congress', 'party', 'major', 'state', 'status']).size()\n",
    "grouped_bills_count = bills_count.to_frame()\n",
    "grouped_bills_count.columns = ['count']\n",
    "grouped_bills_count.head(5)"
   ]
  },
  {
   "cell_type": "code",
   "execution_count": null,
   "metadata": {},
   "outputs": [],
   "source": [
    "bills_count = bills.groupby(['congress', 'party', 'major', 'state', 'status']).size()\n",
    "grouped_bills_count = bills_count.to_frame()\n",
    "grouped_bills_count.columns = ['count']\n",
    "grouped_bills_count.head(5)"
   ]
  },
  {
   "cell_type": "code",
   "execution_count": null,
   "metadata": {},
   "outputs": [],
   "source": [
    "grouped_id_list = bills.groupby(['Cong', 'SpParty', 'Major', 'SpState', 'status'], as_index=False)['idNEW'].agg(\n",
    "    {'id_list':(lambda x: list(x))})\n",
    "grouped_id_list.set_index(['Cong', 'SpParty', 'Major', 'SpState', 'status'], inplace=True)\n",
    "grouped_id_list.head(5)"
   ]
  },
  {
   "cell_type": "code",
   "execution_count": null,
   "metadata": {},
   "outputs": [],
   "source": [
    "grouped_url_list = bills.groupby(['Cong', 'SpParty', 'Major', 'SpState', 'status'], as_index=False)['URL'].agg(\n",
    "    {'url_list':(lambda x: list(x))})\n",
    "grouped_url_list.set_index(['Cong', 'SpParty', 'Major', 'SpState', 'status'], inplace=True)\n",
    "grouped_url_list.head(5)"
   ]
  },
  {
   "cell_type": "code",
   "execution_count": null,
   "metadata": {},
   "outputs": [],
   "source": [
    "grouped_title_list = bills.groupby(['Cong', 'SpParty', 'Major', 'SpState', 'status'], as_index=False)['OfficialTitle'].agg(\n",
    "    {'title_list':(lambda x: list(x))})\n",
    "grouped_title_list.set_index(['Cong', 'SpParty', 'Major', 'SpState', 'status'], inplace=True)\n",
    "grouped_title_list.head(5)"
   ]
  },
  {
   "cell_type": "code",
   "execution_count": null,
   "metadata": {},
   "outputs": [],
   "source": [
    "grouped_bills = pd.merge(grouped_id_list, grouped_url_list, left_index=True, right_index=True)\n",
    "grouped_bills = pd.merge(grouped_bills, grouped_title_list, left_index=True, right_index=True)\n",
    "grouped_bills = pd.merge(grouped_bills, grouped_bills_count, left_index=True, right_index=True)\n",
    "grouped_bills.head(5)"
   ]
  },
  {
   "cell_type": "code",
   "execution_count": null,
   "metadata": {},
   "outputs": [],
   "source": [
    "final_grouped = pd.DataFrame(index=grouped_bills.index) \n",
    "final_grouped['id_list'] = [ ';'.join([str(x) for x in row]) for row in grouped_bills['id_list']]\n",
    "final_grouped['url_list'] = [ ';'.join([str(x) for x in row]) for row in grouped_bills['url_list']]\n",
    "final_grouped['title_list'] = [ ';'.join([str(x) for x in row]) for row in grouped_bills['title_list']]\n",
    "final_grouped['count'] = grouped_bills_count['count']\n",
    "# final_grouped['congress'] = final_grouped['Cong']\n",
    "# final_grouped['party'] = final_grouped['SpParty']\n",
    "# final_grouped['major'] = final_grouped['Major']\n",
    "# final_grouped['state'] = final_grouped['SpState']\n",
    "# final_grouped = final_grouped[['congress','party','major','state','id_list','url_list','count']]\n",
    "# final_grouped.index.names = ['congress', 'party', 'major', 'state', 'status']\n",
    "final_grouped.head()"
   ]
  },
  {
   "cell_type": "code",
   "execution_count": null,
   "metadata": {},
   "outputs": [],
   "source": [
    "final_grouped.to_csv('../project/app/data/grouped_bills.csv', sep=',', encoding='utf-8', escapechar=';')"
   ]
  },
  {
   "cell_type": "code",
   "execution_count": null,
   "metadata": {},
   "outputs": [],
   "source": []
  },
  {
   "cell_type": "code",
   "execution_count": null,
   "metadata": {},
   "outputs": [],
   "source": []
  },
  {
   "cell_type": "code",
   "execution_count": null,
   "metadata": {},
   "outputs": [],
   "source": []
  }
 ],
 "metadata": {
  "kernelspec": {
   "display_name": "Python 3",
   "language": "python",
   "name": "python3"
  },
  "language_info": {
   "codemirror_mode": {
    "name": "ipython",
    "version": 3
   },
   "file_extension": ".py",
   "mimetype": "text/x-python",
   "name": "python",
   "nbconvert_exporter": "python",
   "pygments_lexer": "ipython3",
   "version": "3.7.0"
  }
 },
 "nbformat": 4,
 "nbformat_minor": 2
}
