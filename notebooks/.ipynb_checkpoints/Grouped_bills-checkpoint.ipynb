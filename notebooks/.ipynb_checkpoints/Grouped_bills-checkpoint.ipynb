{
 "cells": [
  {
   "cell_type": "code",
   "execution_count": 1,
   "metadata": {},
   "outputs": [],
   "source": [
    "import pandas as pd\n",
    "import csv\n",
    "import time"
   ]
  },
  {
   "cell_type": "code",
   "execution_count": 2,
   "metadata": {},
   "outputs": [],
   "source": [
    "def rearrange_csv_columns(path):\n",
    "    new_path = '/'.join(path.split('/')[:-1]) + '/new_' + path.split('/')[-1]\n",
    "    num_of_cols = 35\n",
    "    prob_col =  11\n",
    "    prob_string_list = [' Jr.\"' , ' Jr.']\n",
    "     \n",
    "    with open(path, \"r\") as f_in, open(new_path, \"w\") as f_out:\n",
    "        reader = csv.reader(f_in)\n",
    "        writer = csv.writer(f_out)\n",
    "        for row in reader:\n",
    "            if len(row) == num_of_cols + 1:\n",
    "                assert row[prob_col] in prob_string_list, row[prob_col] + ' -> id:' + str(row[0])\n",
    "                new_row[:prob_col-1] = row[:prob_col-1]\n",
    "                new_row[prob_col-1] = row[prob_col-1] + row[prob_col]\n",
    "                new_row[prob_col:] = row[prob_col+1:]\n",
    "            else:\n",
    "                new_row = row\n",
    "\n",
    "            writer.writerow(new_row)\n",
    "\n",
    "    f_in.close()\n",
    "    f_out.close()\n",
    "    \n",
    "    return new_path"
   ]
  },
  {
   "cell_type": "code",
   "execution_count": 3,
   "metadata": {},
   "outputs": [],
   "source": [
    "# subjects 11, 22 are missing => 21 subjects in total\n",
    "subjects_dict = dict()\n",
    "with open('../project/app/data/policy_agenda.csv', \"r\") as f_in:\n",
    "    reader = csv.reader(f_in)\n",
    "    for row in reader:\n",
    "        subjects_dict[float(row[0])] = row[1]\n",
    "    f_in.close()"
   ]
  },
  {
   "cell_type": "markdown",
   "metadata": {},
   "source": [
    "##### outer bills file"
   ]
  },
  {
   "cell_type": "code",
   "execution_count": 4,
   "metadata": {},
   "outputs": [],
   "source": [
    "# _ = rearrange_csv_columns('data/bills/bills.csv')\n",
    "# bills = pd.read_csv('data/bills/new_bills.csv')"
   ]
  },
  {
   "cell_type": "code",
   "execution_count": 5,
   "metadata": {},
   "outputs": [],
   "source": [
    "# print(bills.shape)\n",
    "# print(bills.columns)\n",
    "# bills.Cong.unique()"
   ]
  },
  {
   "cell_type": "markdown",
   "metadata": {},
   "source": [
    "##### inner bills file"
   ]
  },
  {
   "cell_type": "code",
   "execution_count": 6,
   "metadata": {},
   "outputs": [],
   "source": [
    "# _ = rearrange_csv_columns('data/bills/data/congress/output/bills.csv')\n",
    "bills_initial = pd.read_csv('../data/bills/data/congress/output/new_bills.csv', low_memory=False)"
   ]
  },
  {
   "cell_type": "code",
   "execution_count": 7,
   "metadata": {},
   "outputs": [],
   "source": [
    "bills_initial = bills_initial[ bills_initial['isBill'] == 1]"
   ]
  },
  {
   "cell_type": "code",
   "execution_count": 8,
   "metadata": {},
   "outputs": [
    {
     "name": "stdout",
     "output_type": "stream",
     "text": [
      "(236317, 35)\n",
      "Index(['idNEW', 'idOLD', 'BillNum', 'BillType', 'Cong', 'IntrDate',\n",
      "       'ShortTitle', 'OfficialTitle', 'PopTitle', 'SpThomasID', 'SpName',\n",
      "       'SpState', 'SpDist', 'UpdatedAt', 'CoSpThID', 'PLawNo', 'MinorBill',\n",
      "       'PLawNoFull', 'compLaw', 'Major', 'Minor', 'ChRef', 'RankRef', 'MemRef',\n",
      "       'SubChRef', 'SubRankRef', 'ImpBill', 'URL', 'isBill', 'Majority',\n",
      "       'Senate', 'LeadRef', 'SpParty', 'commRefs', 'timestamp'],\n",
      "      dtype='object')\n"
     ]
    },
    {
     "data": {
      "text/plain": [
       "array([ 93,  94,  95,  96,  97,  98,  99, 100, 101, 102, 103, 104, 105,\n",
       "       106, 107, 108, 109, 110, 111, 112, 113, 114])"
      ]
     },
     "execution_count": 8,
     "metadata": {},
     "output_type": "execute_result"
    }
   ],
   "source": [
    "print(bills_initial.shape)\n",
    "print(bills_initial.columns)\n",
    "bills_initial.Cong.unique()"
   ]
  },
  {
   "cell_type": "code",
   "execution_count": 9,
   "metadata": {},
   "outputs": [
    {
     "data": {
      "text/plain": [
       "idNEW                                                            2\n",
       "idOLD                                                       220390\n",
       "BillNum                                                       5938\n",
       "BillType                                                        hr\n",
       "Cong                                                            93\n",
       "IntrDate                                                1973-03-21\n",
       "ShortTitle       Elementary or Secondary Education Tax Credit A...\n",
       "OfficialTitle    A bill to amend the Internal Revenue Code of 1...\n",
       "PopTitle                                                       NaN\n",
       "SpThomasID                                                     320\n",
       "SpName                                         Dulski, Thaddeus J.\n",
       "SpState                                                         NY\n",
       "SpDist                                                          37\n",
       "UpdatedAt                                      2014-01-28 14:37:07\n",
       "CoSpThID                                                       NaN\n",
       "PLawNo                                                         NaN\n",
       "MinorBill                                                        0\n",
       "PLawNoFull                                                       0\n",
       "compLaw                                                        NaN\n",
       "Major                                                            6\n",
       "Minor                                                          602\n",
       "ChRef                                                            0\n",
       "RankRef                                                          0\n",
       "MemRef                                                           0\n",
       "SubChRef                                                         0\n",
       "SubRankRef                                                       0\n",
       "ImpBill                                                          1\n",
       "URL              http://beta.congress.gov/bill/93th-congress/ho...\n",
       "isBill                                                           1\n",
       "Majority                                                         1\n",
       "Senate                                                           0\n",
       "LeadRef                                                          0\n",
       "SpParty                                                          D\n",
       "commRefs                                                       NaN\n",
       "timestamp                                      2015-07-30 20:09:44\n",
       "Name: 1, dtype: object"
      ]
     },
     "execution_count": 9,
     "metadata": {},
     "output_type": "execute_result"
    }
   ],
   "source": [
    "bills_initial.loc[1]"
   ]
  },
  {
   "cell_type": "code",
   "execution_count": 10,
   "metadata": {},
   "outputs": [],
   "source": [
    "BILL_COLUMNS = ['Cong', 'SpParty', 'Major', 'SpState', 'idNEW', 'URL']\n",
    "bills_initial = bills_initial[BILL_COLUMNS]"
   ]
  },
  {
   "cell_type": "code",
   "execution_count": 11,
   "metadata": {},
   "outputs": [
    {
     "name": "stdout",
     "output_type": "stream",
     "text": [
      "(236317, 6)\n",
      "Index(['Cong', 'SpParty', 'Major', 'SpState', 'idNEW', 'URL'], dtype='object')\n"
     ]
    },
    {
     "data": {
      "text/html": [
       "<div>\n",
       "<style scoped>\n",
       "    .dataframe tbody tr th:only-of-type {\n",
       "        vertical-align: middle;\n",
       "    }\n",
       "\n",
       "    .dataframe tbody tr th {\n",
       "        vertical-align: top;\n",
       "    }\n",
       "\n",
       "    .dataframe thead th {\n",
       "        text-align: right;\n",
       "    }\n",
       "</style>\n",
       "<table border=\"1\" class=\"dataframe\">\n",
       "  <thead>\n",
       "    <tr style=\"text-align: right;\">\n",
       "      <th></th>\n",
       "      <th>Cong</th>\n",
       "      <th>SpParty</th>\n",
       "      <th>Major</th>\n",
       "      <th>SpState</th>\n",
       "      <th>idNEW</th>\n",
       "      <th>URL</th>\n",
       "    </tr>\n",
       "  </thead>\n",
       "  <tbody>\n",
       "    <tr>\n",
       "      <th>0</th>\n",
       "      <td>93</td>\n",
       "      <td>D</td>\n",
       "      <td>20.0</td>\n",
       "      <td>IL</td>\n",
       "      <td>1</td>\n",
       "      <td>http://beta.congress.gov/bill/93th-congress/ho...</td>\n",
       "    </tr>\n",
       "  </tbody>\n",
       "</table>\n",
       "</div>"
      ],
      "text/plain": [
       "   Cong SpParty  Major SpState  idNEW  \\\n",
       "0    93       D   20.0      IL      1   \n",
       "\n",
       "                                                 URL  \n",
       "0  http://beta.congress.gov/bill/93th-congress/ho...  "
      ]
     },
     "execution_count": 11,
     "metadata": {},
     "output_type": "execute_result"
    }
   ],
   "source": [
    "print(bills_initial.shape)\n",
    "print(bills_initial.columns)\n",
    "bills_initial.head(1)"
   ]
  },
  {
   "cell_type": "code",
   "execution_count": 12,
   "metadata": {},
   "outputs": [],
   "source": [
    "bills = pd.DataFrame(index=bills_initial.index)\n",
    "bills[['Cong', 'SpParty', 'SpState', 'idNEW', 'URL']] = bills_initial[['Cong', 'SpParty', 'SpState', 'idNEW', 'URL']]\n",
    "bills['Major'] = bills_initial['Major'].map(subjects_dict) \n",
    "bills['Major'].fillna('Other', inplace=True)"
   ]
  },
  {
   "cell_type": "code",
   "execution_count": 13,
   "metadata": {},
   "outputs": [
    {
     "data": {
      "text/html": [
       "<div>\n",
       "<style scoped>\n",
       "    .dataframe tbody tr th:only-of-type {\n",
       "        vertical-align: middle;\n",
       "    }\n",
       "\n",
       "    .dataframe tbody tr th {\n",
       "        vertical-align: top;\n",
       "    }\n",
       "\n",
       "    .dataframe thead th {\n",
       "        text-align: right;\n",
       "    }\n",
       "</style>\n",
       "<table border=\"1\" class=\"dataframe\">\n",
       "  <thead>\n",
       "    <tr style=\"text-align: right;\">\n",
       "      <th></th>\n",
       "      <th>Cong</th>\n",
       "      <th>SpParty</th>\n",
       "      <th>SpState</th>\n",
       "      <th>idNEW</th>\n",
       "      <th>URL</th>\n",
       "      <th>Major</th>\n",
       "    </tr>\n",
       "  </thead>\n",
       "  <tbody>\n",
       "    <tr>\n",
       "      <th>0</th>\n",
       "      <td>93</td>\n",
       "      <td>D</td>\n",
       "      <td>IL</td>\n",
       "      <td>1</td>\n",
       "      <td>http://beta.congress.gov/bill/93th-congress/ho...</td>\n",
       "      <td>Government Operations</td>\n",
       "    </tr>\n",
       "  </tbody>\n",
       "</table>\n",
       "</div>"
      ],
      "text/plain": [
       "   Cong SpParty SpState  idNEW  \\\n",
       "0    93       D      IL      1   \n",
       "\n",
       "                                                 URL                  Major  \n",
       "0  http://beta.congress.gov/bill/93th-congress/ho...  Government Operations  "
      ]
     },
     "execution_count": 13,
     "metadata": {},
     "output_type": "execute_result"
    }
   ],
   "source": [
    "bills.head(1)"
   ]
  },
  {
   "cell_type": "markdown",
   "metadata": {},
   "source": [
    "### Grouping"
   ]
  },
  {
   "cell_type": "code",
   "execution_count": 14,
   "metadata": {},
   "outputs": [
    {
     "data": {
      "text/html": [
       "<div>\n",
       "<style scoped>\n",
       "    .dataframe tbody tr th:only-of-type {\n",
       "        vertical-align: middle;\n",
       "    }\n",
       "\n",
       "    .dataframe tbody tr th {\n",
       "        vertical-align: top;\n",
       "    }\n",
       "\n",
       "    .dataframe thead th {\n",
       "        text-align: right;\n",
       "    }\n",
       "</style>\n",
       "<table border=\"1\" class=\"dataframe\">\n",
       "  <thead>\n",
       "    <tr style=\"text-align: right;\">\n",
       "      <th></th>\n",
       "      <th></th>\n",
       "      <th></th>\n",
       "      <th></th>\n",
       "      <th>count</th>\n",
       "    </tr>\n",
       "    <tr>\n",
       "      <th>Cong</th>\n",
       "      <th>SpParty</th>\n",
       "      <th>Major</th>\n",
       "      <th>SpState</th>\n",
       "      <th></th>\n",
       "    </tr>\n",
       "  </thead>\n",
       "  <tbody>\n",
       "    <tr>\n",
       "      <th rowspan=\"5\" valign=\"top\">93</th>\n",
       "      <th rowspan=\"5\" valign=\"top\">D</th>\n",
       "      <th rowspan=\"5\" valign=\"top\">Agriculture</th>\n",
       "      <th>AL</th>\n",
       "      <td>1</td>\n",
       "    </tr>\n",
       "    <tr>\n",
       "      <th>AR</th>\n",
       "      <td>18</td>\n",
       "    </tr>\n",
       "    <tr>\n",
       "      <th>AZ</th>\n",
       "      <td>1</td>\n",
       "    </tr>\n",
       "    <tr>\n",
       "      <th>CA</th>\n",
       "      <td>29</td>\n",
       "    </tr>\n",
       "    <tr>\n",
       "      <th>CO</th>\n",
       "      <td>3</td>\n",
       "    </tr>\n",
       "  </tbody>\n",
       "</table>\n",
       "</div>"
      ],
      "text/plain": [
       "                                  count\n",
       "Cong SpParty Major       SpState       \n",
       "93   D       Agriculture AL           1\n",
       "                         AR          18\n",
       "                         AZ           1\n",
       "                         CA          29\n",
       "                         CO           3"
      ]
     },
     "execution_count": 14,
     "metadata": {},
     "output_type": "execute_result"
    }
   ],
   "source": [
    "bills_count = bills.groupby(BILL_COLUMNS[0:4]).size()\n",
    "grouped_bills_count = bills_count.to_frame()\n",
    "grouped_bills_count.columns = ['count']\n",
    "grouped_bills_count.head(5)"
   ]
  },
  {
   "cell_type": "code",
   "execution_count": 15,
   "metadata": {},
   "outputs": [
    {
     "data": {
      "text/html": [
       "<div>\n",
       "<style scoped>\n",
       "    .dataframe tbody tr th:only-of-type {\n",
       "        vertical-align: middle;\n",
       "    }\n",
       "\n",
       "    .dataframe tbody tr th {\n",
       "        vertical-align: top;\n",
       "    }\n",
       "\n",
       "    .dataframe thead th {\n",
       "        text-align: right;\n",
       "    }\n",
       "</style>\n",
       "<table border=\"1\" class=\"dataframe\">\n",
       "  <thead>\n",
       "    <tr style=\"text-align: right;\">\n",
       "      <th></th>\n",
       "      <th></th>\n",
       "      <th></th>\n",
       "      <th></th>\n",
       "      <th>id_list</th>\n",
       "    </tr>\n",
       "    <tr>\n",
       "      <th>Cong</th>\n",
       "      <th>SpParty</th>\n",
       "      <th>Major</th>\n",
       "      <th>SpState</th>\n",
       "      <th></th>\n",
       "    </tr>\n",
       "  </thead>\n",
       "  <tbody>\n",
       "    <tr>\n",
       "      <th rowspan=\"5\" valign=\"top\">93</th>\n",
       "      <th rowspan=\"5\" valign=\"top\">D</th>\n",
       "      <th rowspan=\"5\" valign=\"top\">Agriculture</th>\n",
       "      <th>AL</th>\n",
       "      <td>[24509]</td>\n",
       "    </tr>\n",
       "    <tr>\n",
       "      <th>AR</th>\n",
       "      <td>[1614, 2152, 3042, 5288, 5571, 7787, 8518, 106...</td>\n",
       "    </tr>\n",
       "    <tr>\n",
       "      <th>AZ</th>\n",
       "      <td>[12457]</td>\n",
       "    </tr>\n",
       "    <tr>\n",
       "      <th>CA</th>\n",
       "      <td>[646, 652, 690, 1862, 1877, 2804, 2863, 3029, ...</td>\n",
       "    </tr>\n",
       "    <tr>\n",
       "      <th>CO</th>\n",
       "      <td>[15363, 15462, 23226]</td>\n",
       "    </tr>\n",
       "  </tbody>\n",
       "</table>\n",
       "</div>"
      ],
      "text/plain": [
       "                                                                            id_list\n",
       "Cong SpParty Major       SpState                                                   \n",
       "93   D       Agriculture AL                                                 [24509]\n",
       "                         AR       [1614, 2152, 3042, 5288, 5571, 7787, 8518, 106...\n",
       "                         AZ                                                 [12457]\n",
       "                         CA       [646, 652, 690, 1862, 1877, 2804, 2863, 3029, ...\n",
       "                         CO                                   [15363, 15462, 23226]"
      ]
     },
     "execution_count": 15,
     "metadata": {},
     "output_type": "execute_result"
    }
   ],
   "source": [
    "grouped_id_list = bills.groupby(['Cong', 'SpParty', 'Major', 'SpState'], as_index=False)['idNEW'].agg(\n",
    "    {'id_list':(lambda x: list(x))})\n",
    "grouped_id_list.set_index(['Cong', 'SpParty', 'Major', 'SpState'], inplace=True)\n",
    "grouped_id_list.head(5)"
   ]
  },
  {
   "cell_type": "code",
   "execution_count": null,
   "metadata": {},
   "outputs": [],
   "source": []
  },
  {
   "cell_type": "code",
   "execution_count": 16,
   "metadata": {},
   "outputs": [
    {
     "data": {
      "text/html": [
       "<div>\n",
       "<style scoped>\n",
       "    .dataframe tbody tr th:only-of-type {\n",
       "        vertical-align: middle;\n",
       "    }\n",
       "\n",
       "    .dataframe tbody tr th {\n",
       "        vertical-align: top;\n",
       "    }\n",
       "\n",
       "    .dataframe thead th {\n",
       "        text-align: right;\n",
       "    }\n",
       "</style>\n",
       "<table border=\"1\" class=\"dataframe\">\n",
       "  <thead>\n",
       "    <tr style=\"text-align: right;\">\n",
       "      <th></th>\n",
       "      <th></th>\n",
       "      <th></th>\n",
       "      <th></th>\n",
       "      <th>url_list</th>\n",
       "    </tr>\n",
       "    <tr>\n",
       "      <th>Cong</th>\n",
       "      <th>SpParty</th>\n",
       "      <th>Major</th>\n",
       "      <th>SpState</th>\n",
       "      <th></th>\n",
       "    </tr>\n",
       "  </thead>\n",
       "  <tbody>\n",
       "    <tr>\n",
       "      <th rowspan=\"5\" valign=\"top\">93</th>\n",
       "      <th rowspan=\"5\" valign=\"top\">D</th>\n",
       "      <th rowspan=\"5\" valign=\"top\">Agriculture</th>\n",
       "      <th>AL</th>\n",
       "      <td>[http://beta.congress.gov/bill/93th-congress/s...</td>\n",
       "    </tr>\n",
       "    <tr>\n",
       "      <th>AR</th>\n",
       "      <td>[http://beta.congress.gov/bill/93th-congress/h...</td>\n",
       "    </tr>\n",
       "    <tr>\n",
       "      <th>AZ</th>\n",
       "      <td>[http://beta.congress.gov/bill/93th-congress/h...</td>\n",
       "    </tr>\n",
       "    <tr>\n",
       "      <th>CA</th>\n",
       "      <td>[http://beta.congress.gov/bill/93th-congress/h...</td>\n",
       "    </tr>\n",
       "    <tr>\n",
       "      <th>CO</th>\n",
       "      <td>[http://beta.congress.gov/bill/93th-congress/h...</td>\n",
       "    </tr>\n",
       "  </tbody>\n",
       "</table>\n",
       "</div>"
      ],
      "text/plain": [
       "                                                                           url_list\n",
       "Cong SpParty Major       SpState                                                   \n",
       "93   D       Agriculture AL       [http://beta.congress.gov/bill/93th-congress/s...\n",
       "                         AR       [http://beta.congress.gov/bill/93th-congress/h...\n",
       "                         AZ       [http://beta.congress.gov/bill/93th-congress/h...\n",
       "                         CA       [http://beta.congress.gov/bill/93th-congress/h...\n",
       "                         CO       [http://beta.congress.gov/bill/93th-congress/h..."
      ]
     },
     "execution_count": 16,
     "metadata": {},
     "output_type": "execute_result"
    }
   ],
   "source": [
    "grouped_url_list = bills.groupby(['Cong', 'SpParty', 'Major', 'SpState'], as_index=False)['URL'].agg(\n",
    "    {'url_list':(lambda x: list(x))})\n",
    "grouped_url_list.set_index(['Cong', 'SpParty', 'Major', 'SpState'], inplace=True)\n",
    "grouped_url_list.head(5)"
   ]
  },
  {
   "cell_type": "code",
   "execution_count": 24,
   "metadata": {},
   "outputs": [
    {
     "data": {
      "text/html": [
       "<div>\n",
       "<style scoped>\n",
       "    .dataframe tbody tr th:only-of-type {\n",
       "        vertical-align: middle;\n",
       "    }\n",
       "\n",
       "    .dataframe tbody tr th {\n",
       "        vertical-align: top;\n",
       "    }\n",
       "\n",
       "    .dataframe thead th {\n",
       "        text-align: right;\n",
       "    }\n",
       "</style>\n",
       "<table border=\"1\" class=\"dataframe\">\n",
       "  <thead>\n",
       "    <tr style=\"text-align: right;\">\n",
       "      <th></th>\n",
       "      <th></th>\n",
       "      <th></th>\n",
       "      <th></th>\n",
       "      <th>id_list</th>\n",
       "      <th>url_list</th>\n",
       "      <th>count</th>\n",
       "    </tr>\n",
       "    <tr>\n",
       "      <th>Cong</th>\n",
       "      <th>SpParty</th>\n",
       "      <th>Major</th>\n",
       "      <th>SpState</th>\n",
       "      <th></th>\n",
       "      <th></th>\n",
       "      <th></th>\n",
       "    </tr>\n",
       "  </thead>\n",
       "  <tbody>\n",
       "    <tr>\n",
       "      <th rowspan=\"5\" valign=\"top\">93</th>\n",
       "      <th rowspan=\"5\" valign=\"top\">D</th>\n",
       "      <th rowspan=\"5\" valign=\"top\">Agriculture</th>\n",
       "      <th>AL</th>\n",
       "      <td>[24509]</td>\n",
       "      <td>[http://beta.congress.gov/bill/93th-congress/s...</td>\n",
       "      <td>1</td>\n",
       "    </tr>\n",
       "    <tr>\n",
       "      <th>AR</th>\n",
       "      <td>[1614, 2152, 3042, 5288, 5571, 7787, 8518, 106...</td>\n",
       "      <td>[http://beta.congress.gov/bill/93th-congress/h...</td>\n",
       "      <td>18</td>\n",
       "    </tr>\n",
       "    <tr>\n",
       "      <th>AZ</th>\n",
       "      <td>[12457]</td>\n",
       "      <td>[http://beta.congress.gov/bill/93th-congress/h...</td>\n",
       "      <td>1</td>\n",
       "    </tr>\n",
       "    <tr>\n",
       "      <th>CA</th>\n",
       "      <td>[646, 652, 690, 1862, 1877, 2804, 2863, 3029, ...</td>\n",
       "      <td>[http://beta.congress.gov/bill/93th-congress/h...</td>\n",
       "      <td>29</td>\n",
       "    </tr>\n",
       "    <tr>\n",
       "      <th>CO</th>\n",
       "      <td>[15363, 15462, 23226]</td>\n",
       "      <td>[http://beta.congress.gov/bill/93th-congress/h...</td>\n",
       "      <td>3</td>\n",
       "    </tr>\n",
       "  </tbody>\n",
       "</table>\n",
       "</div>"
      ],
      "text/plain": [
       "                                                                            id_list  \\\n",
       "Cong SpParty Major       SpState                                                      \n",
       "93   D       Agriculture AL                                                 [24509]   \n",
       "                         AR       [1614, 2152, 3042, 5288, 5571, 7787, 8518, 106...   \n",
       "                         AZ                                                 [12457]   \n",
       "                         CA       [646, 652, 690, 1862, 1877, 2804, 2863, 3029, ...   \n",
       "                         CO                                   [15363, 15462, 23226]   \n",
       "\n",
       "                                                                           url_list  \\\n",
       "Cong SpParty Major       SpState                                                      \n",
       "93   D       Agriculture AL       [http://beta.congress.gov/bill/93th-congress/s...   \n",
       "                         AR       [http://beta.congress.gov/bill/93th-congress/h...   \n",
       "                         AZ       [http://beta.congress.gov/bill/93th-congress/h...   \n",
       "                         CA       [http://beta.congress.gov/bill/93th-congress/h...   \n",
       "                         CO       [http://beta.congress.gov/bill/93th-congress/h...   \n",
       "\n",
       "                                  count  \n",
       "Cong SpParty Major       SpState         \n",
       "93   D       Agriculture AL           1  \n",
       "                         AR          18  \n",
       "                         AZ           1  \n",
       "                         CA          29  \n",
       "                         CO           3  "
      ]
     },
     "execution_count": 24,
     "metadata": {},
     "output_type": "execute_result"
    }
   ],
   "source": [
    "grouped_bills = pd.merge(grouped_id_list, grouped_url_list, left_index=True, right_index=True)\n",
    "grouped_bills = pd.merge(grouped_bills, grouped_bills_count, left_index=True, right_index=True)\n",
    "grouped_bills.head(5)"
   ]
  },
  {
   "cell_type": "code",
   "execution_count": 25,
   "metadata": {},
   "outputs": [
    {
     "data": {
      "text/html": [
       "<div>\n",
       "<style scoped>\n",
       "    .dataframe tbody tr th:only-of-type {\n",
       "        vertical-align: middle;\n",
       "    }\n",
       "\n",
       "    .dataframe tbody tr th {\n",
       "        vertical-align: top;\n",
       "    }\n",
       "\n",
       "    .dataframe thead th {\n",
       "        text-align: right;\n",
       "    }\n",
       "</style>\n",
       "<table border=\"1\" class=\"dataframe\">\n",
       "  <thead>\n",
       "    <tr style=\"text-align: right;\">\n",
       "      <th></th>\n",
       "      <th></th>\n",
       "      <th></th>\n",
       "      <th></th>\n",
       "      <th>id_list</th>\n",
       "      <th>url_list</th>\n",
       "      <th>count</th>\n",
       "    </tr>\n",
       "    <tr>\n",
       "      <th>Cong</th>\n",
       "      <th>SpParty</th>\n",
       "      <th>Major</th>\n",
       "      <th>SpState</th>\n",
       "      <th></th>\n",
       "      <th></th>\n",
       "      <th></th>\n",
       "    </tr>\n",
       "  </thead>\n",
       "  <tbody>\n",
       "    <tr>\n",
       "      <th rowspan=\"5\" valign=\"top\">93</th>\n",
       "      <th rowspan=\"5\" valign=\"top\">D</th>\n",
       "      <th rowspan=\"5\" valign=\"top\">Agriculture</th>\n",
       "      <th>AL</th>\n",
       "      <td>24509</td>\n",
       "      <td>http://beta.congress.gov/bill/93th-congress/se...</td>\n",
       "      <td>1</td>\n",
       "    </tr>\n",
       "    <tr>\n",
       "      <th>AR</th>\n",
       "      <td>1614;2152;3042;5288;5571;7787;8518;10697;10903...</td>\n",
       "      <td>http://beta.congress.gov/bill/93th-congress/ho...</td>\n",
       "      <td>18</td>\n",
       "    </tr>\n",
       "    <tr>\n",
       "      <th>AZ</th>\n",
       "      <td>12457</td>\n",
       "      <td>http://beta.congress.gov/bill/93th-congress/ho...</td>\n",
       "      <td>1</td>\n",
       "    </tr>\n",
       "    <tr>\n",
       "      <th>CA</th>\n",
       "      <td>646;652;690;1862;1877;2804;2863;3029;4514;5686...</td>\n",
       "      <td>http://beta.congress.gov/bill/93th-congress/ho...</td>\n",
       "      <td>29</td>\n",
       "    </tr>\n",
       "    <tr>\n",
       "      <th>CO</th>\n",
       "      <td>15363;15462;23226</td>\n",
       "      <td>http://beta.congress.gov/bill/93th-congress/ho...</td>\n",
       "      <td>3</td>\n",
       "    </tr>\n",
       "  </tbody>\n",
       "</table>\n",
       "</div>"
      ],
      "text/plain": [
       "                                                                            id_list  \\\n",
       "Cong SpParty Major       SpState                                                      \n",
       "93   D       Agriculture AL                                                   24509   \n",
       "                         AR       1614;2152;3042;5288;5571;7787;8518;10697;10903...   \n",
       "                         AZ                                                   12457   \n",
       "                         CA       646;652;690;1862;1877;2804;2863;3029;4514;5686...   \n",
       "                         CO                                       15363;15462;23226   \n",
       "\n",
       "                                                                           url_list  \\\n",
       "Cong SpParty Major       SpState                                                      \n",
       "93   D       Agriculture AL       http://beta.congress.gov/bill/93th-congress/se...   \n",
       "                         AR       http://beta.congress.gov/bill/93th-congress/ho...   \n",
       "                         AZ       http://beta.congress.gov/bill/93th-congress/ho...   \n",
       "                         CA       http://beta.congress.gov/bill/93th-congress/ho...   \n",
       "                         CO       http://beta.congress.gov/bill/93th-congress/ho...   \n",
       "\n",
       "                                  count  \n",
       "Cong SpParty Major       SpState         \n",
       "93   D       Agriculture AL           1  \n",
       "                         AR          18  \n",
       "                         AZ           1  \n",
       "                         CA          29  \n",
       "                         CO           3  "
      ]
     },
     "execution_count": 25,
     "metadata": {},
     "output_type": "execute_result"
    }
   ],
   "source": [
    "final_grouped = pd.DataFrame(index=grouped_bills.index) \n",
    "final_grouped['id_list'] = [ ';'.join([str(x) for x in row]) for row in grouped_bills['id_list']]\n",
    "final_grouped['url_list'] = [ ';'.join([str(x) for x in row]) for row in grouped_bills['url_list']]\n",
    "final_grouped['count'] = grouped_bills_count['count']\n",
    "final_grouped.head()"
   ]
  },
  {
   "cell_type": "code",
   "execution_count": 26,
   "metadata": {},
   "outputs": [],
   "source": [
    "final_grouped.to_csv('../project/app/data/grouped_bills.csv', sep=',', encoding='utf-8', escapechar=';')"
   ]
  }
 ],
 "metadata": {
  "kernelspec": {
   "display_name": "Python 3",
   "language": "python",
   "name": "python3"
  },
  "language_info": {
   "codemirror_mode": {
    "name": "ipython",
    "version": 3
   },
   "file_extension": ".py",
   "mimetype": "text/x-python",
   "name": "python",
   "nbconvert_exporter": "python",
   "pygments_lexer": "ipython3",
   "version": "3.7.0"
  }
 },
 "nbformat": 4,
 "nbformat_minor": 2
}
