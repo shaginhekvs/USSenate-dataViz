{
 "cells": [
  {
   "cell_type": "code",
   "execution_count": null,
   "metadata": {
    "collapsed": true
   },
   "outputs": [],
   "source": [
    "import numpy as np\n",
    "import pandas as pd\n",
    "import matplotlib.pyplot as plt\n",
    "import os\n",
    "import datetime\n",
    "import seaborn as sns\n",
    "import zipfile\n",
    "import re"
   ]
  },
  {
   "cell_type": "code",
   "execution_count": null,
   "metadata": {
    "collapsed": true
   },
   "outputs": [],
   "source": [
    "plt.rcParams[\"axes.labelsize\"] = 14\n",
    "plt.rcParams[\"axes.titlesize\"] = 18"
   ]
  },
  {
   "cell_type": "markdown",
   "metadata": {},
   "source": [
    "# Loading dataframes"
   ]
  },
  {
   "cell_type": "code",
   "execution_count": null,
   "metadata": {
    "collapsed": true
   },
   "outputs": [],
   "source": [
    "VOTE_DATA_PATH = 'data/votes/'\n",
    "LOBBY_DATA_PATH = 'data/lobby/'\n",
    "\n",
    "Z_FILE_VOTE = zipfile.ZipFile(VOTE_DATA_PATH+'votes.zip')\n",
    "\n",
    "vote_data_files = [x.filename for x in Z_FILE_VOTE.infolist() if x.filename.startswith('votes_')]"
   ]
  },
  {
   "cell_type": "code",
   "execution_count": null,
   "metadata": {
    "collapsed": true
   },
   "outputs": [],
   "source": [
    "def interpret_position(positions):\n",
    "    r = positions.copy()\n",
    "    r = r.apply(lambda x : 1 if x == \"Yes\" else ( -1 if x == \"No\" else 0 ))\n",
    "    \n",
    "    return r"
   ]
  },
  {
   "cell_type": "code",
   "execution_count": null,
   "metadata": {
    "collapsed": true
   },
   "outputs": [],
   "source": [
    "USEFUL_COLUMNS = ['id','bill.number','congress','member_id','question','position', 'timestamp']\n",
    "\n",
    "def process_vote_file(file_path):\n",
    "    print(\"Processing vote data for {file}\".format(file=file_path))\n",
    "    ifile = Z_FILE_VOTE.open(file_path)\n",
    "    \n",
    "    # Read data\n",
    "    df = pd.read_csv(ifile)\n",
    "\n",
    "    # We drop entries without bill number as they lead to invalid bill IDs\n",
    "    df = df[df['bill.number'].notna()]\n",
    "    \n",
    "    # We drop entries without roll call value\n",
    "    df = df[df['roll_call'].notna()]\n",
    "    \n",
    "    # As there can be several votes per bill we need to build a unique ID\n",
    "    df['id'] = df['bill.bill_id'].map(str) + \"-\" + df['roll_call'].map(str)\n",
    "\n",
    "    # Some bill IDs and roll call numbers are poorly filled, leading to duplicates\n",
    "    df = df.drop_duplicates('id')\n",
    "    \n",
    "    # Build timestamps\n",
    "    df['timestamp'] = pd.to_datetime(df.date.map(str) + \" \" + df.time.map(str))\n",
    "    \n",
    "    # Keep only useful columns\n",
    "    df = df[USEFUL_COLUMNS]\n",
    "    \n",
    "    # Convert position to numeric\n",
    "    df['position'] = interpret_position(df['position'])\n",
    "    \n",
    "    return df"
   ]
  },
  {
   "cell_type": "code",
   "execution_count": null,
   "metadata": {
    "collapsed": true
   },
   "outputs": [],
   "source": [
    "NOMINATION_VOTE = \"On the Nomination\"\n",
    "MOTION_VOTE = \"On the Motion\"\n",
    "CLOTURE_MOTION_VOTE = \"On the Cloture Motion\"\n",
    "BILL_PASSAGE = \"On Passage of the Bill\"\n",
    "\n",
    "def build_vote_matrix(questions, data):\n",
    "    \"\"\"\n",
    "    Given a list of questions, build a vote matrix.\n",
    "    Index are senators IDs, columns are vote IDs and values are the respective positions\n",
    "    of the senators with respect to the question (Yes, No, blank or NaN if the senator\n",
    "    did not take part in the vote)\n",
    "    \n",
    "    Data should contain the following columns:\n",
    "        - senators ID (member_id)\n",
    "        - vote ID (id)\n",
    "        - position (position)\n",
    "    \"\"\"\n",
    "    vote_matrix = data[data['question'].isin(questions)]\n",
    "    vote_matrix = vote_matrix.pivot(columns='id', index='member_id', values='position')\n",
    "    \n",
    "    return vote_matrix"
   ]
  },
  {
   "cell_type": "code",
   "execution_count": null,
   "metadata": {
    "collapsed": true
   },
   "outputs": [],
   "source": [
    "# Example vote matrix\n",
    "vm_data1 = process_vote_file(vote_data_files[210])\n",
    "vm_data2 = process_vote_file(vote_data_files[202])\n",
    "vm_data = pd.concat([vm_data1.head(10), vm_data2.head(10)]) \n",
    "\n",
    "display(vm_data)\n",
    "\n",
    "vm = build_vote_matrix([NOMINATION_VOTE,CLOTURE_MOTION_VOTE,MOTION_VOTE], vm_data)\n",
    "\n",
    "display(vm)"
   ]
  },
  {
   "cell_type": "code",
   "execution_count": null,
   "metadata": {
    "collapsed": true
   },
   "outputs": [],
   "source": [
    "# Compiling senators from all congresses\n",
    "raw_senators = pd.DataFrame()\n",
    "\n",
    "for i in range (115, 80 - 1, -1):\n",
    "    df = pd.read_csv(\"data/senate_members/senate_members_{congress}.csv\".format(congress = i))\n",
    "    df['congress'] = i\n",
    "    raw_senators = pd.concat([raw_senators, df], sort=False)\n",
    "    \n",
    "    \n",
    "# Compiling commities\n",
    "raw_commities = pd.DataFrame()\n",
    "\n",
    "for i in range (115, 110 - 1, -1):\n",
    "    df = pd.read_csv(\"data/commities/commities_{congress}.csv\".format(congress = i))\n",
    "    df['congress'] = i\n",
    "    raw_commities = pd.concat([raw_senators, df], sort=False)\n",
    "    \n",
    "    \n",
    "# Retrieving votes\n",
    "raw_votes = pd.read_csv(Z_FILE_VOTE.open(\"votes.csv\"))\n",
    "\n",
    "#Retrieving lobbies\n",
    "raw_lobbies = pd.read_csv(zipfile.ZipFile(LOBBY_DATA_PATH+'lobby.zip').open('lobby.csv'))"
   ]
  },
  {
   "cell_type": "code",
   "execution_count": null,
   "metadata": {
    "collapsed": true
   },
   "outputs": [],
   "source": [
    "# Example vote matrix\n",
    "vm_data1 = process_vote_file(vote_data_files[200])\n",
    "vm_data2 = process_vote_file(vote_data_files[202])\n",
    "vm_data = pd.concat([vm_data1.head(10), vm_data2.head(10)]) \n",
    "\n",
    "display(vm_data)\n",
    "\n",
    "vm = build_vote_matrix([NOMINATION_VOTE, BILL_PASSAGE, MOTION_VOTE], vm_data)\n",
    "\n",
    "display(vm)"
   ]
  },
  {
   "cell_type": "code",
   "execution_count": null,
   "metadata": {
    "collapsed": true
   },
   "outputs": [],
   "source": [
    "df_list = []\n",
    "\n",
    "for filepath in vote_data_files:\n",
    "    vm_data = process_vote_file(filepath)\n",
    "    df_list.append(vm_data)\n",
    "    \n",
    "vm_data = pd.concat(df_list)"
   ]
  },
  {
   "cell_type": "code",
   "execution_count": null,
   "metadata": {
    "collapsed": true
   },
   "outputs": [],
   "source": [
    "vm_data_115 = vm_data[vm_data['congress'] == 115]\n",
    "\n",
    "vm = build_vote_matrix([BILL_PASSAGE], vm_data_115).dropna(axis=0, how='any')\n",
    "\n",
    "display(vm)"
   ]
  },
  {
   "cell_type": "code",
   "execution_count": null,
   "metadata": {
    "collapsed": true
   },
   "outputs": [],
   "source": [
    "from sklearn.decomposition import PCA\n",
    "\n",
    "pca = PCA(n_components=1)\n",
    "pca.fit(vm)\n",
    "\n",
    "coords = pca.transform(vm)"
   ]
  },
  {
   "cell_type": "code",
   "execution_count": null,
   "metadata": {
    "collapsed": true
   },
   "outputs": [],
   "source": [
    "raw_senators.columns"
   ]
  },
  {
   "cell_type": "code",
   "execution_count": null,
   "metadata": {
    "collapsed": true
   },
   "outputs": [],
   "source": [
    "dems = raw_senators[raw_senators['party']=='D']['id']\n",
    "reps = raw_senators[raw_senators['party']=='R']['id']"
   ]
  },
  {
   "cell_type": "code",
   "execution_count": null,
   "metadata": {
    "collapsed": true
   },
   "outputs": [],
   "source": [
    "vm_dems = vm[vm.index.isin(dems.values)]\n",
    "vm_reps = vm[vm.index.isin(reps.values)]"
   ]
  },
  {
   "cell_type": "code",
   "execution_count": null,
   "metadata": {
    "collapsed": true
   },
   "outputs": [],
   "source": [
    "dems_coords = pca.transform(vm_dems)\n",
    "reps_coords = pca.transform(vm_reps)"
   ]
  },
  {
   "cell_type": "code",
   "execution_count": null,
   "metadata": {
    "collapsed": true
   },
   "outputs": [],
   "source": [
    "random_comp = np.random.normal(0,1, len(dems_coords))\n",
    "plt.scatter(dems_coords, random_comp, color='b')\n",
    "random_comp = np.random.normal(0,1, len(reps_coords))\n",
    "plt.scatter(reps_coords, random_comp, color='r')\n",
    "plt.ylim(-10,10)\n",
    "plt.show()"
   ]
  },
  {
   "cell_type": "code",
   "execution_count": null,
   "metadata": {
    "collapsed": true
   },
   "outputs": [],
   "source": [
    "raw_senators.columns"
   ]
  },
  {
   "cell_type": "code",
   "execution_count": null,
   "metadata": {
    "collapsed": true
   },
   "outputs": [],
   "source": [
    "# Do senators tend to vote more and more with their party ?\n",
    "\n",
    "data = raw_senators[raw_senators['congress'] > 100]\n",
    "ax = data.boxplot(column='votes_with_party_pct', by='congress', figsize=(15,10))\n",
    "ax.set(xlabel=\"Congress\", ylabel=\"Percentage of votes with party\")\n",
    "ax.get_figure().suptitle(\"\")\n",
    "\n",
    "plt.title(\"Evolution of voting with party percentage\")\n",
    "plt.show()"
   ]
  },
  {
   "cell_type": "code",
   "execution_count": null,
   "metadata": {
    "collapsed": true
   },
   "outputs": [],
   "source": [
    "gender_count = raw_senators[['id', 'gender', 'congress']].groupby(['congress', 'gender']).count()\n",
    "gc = gender_count.unstack()\n",
    "gc.columns = gc.columns.droplevel()\n",
    "# Compute gender percentages\n",
    "gc = gc.div(gc.sum(axis=1),axis=0).fillna(0)\n",
    "gc['F'].plot(kind='line', figsize=(15,10), marker='o', linestyle='-')\n",
    "plt.title(\"Proportion of women in senate\")\n",
    "plt.show()"
   ]
  },
  {
   "cell_type": "code",
   "execution_count": null,
   "metadata": {
    "collapsed": true
   },
   "outputs": [],
   "source": [
    "raw_votes.columns"
   ]
  },
  {
   "cell_type": "code",
   "execution_count": null,
   "metadata": {
    "collapsed": true
   },
   "outputs": [],
   "source": [
    "raw_votes.head()"
   ]
  },
  {
   "cell_type": "code",
   "execution_count": null,
   "metadata": {
    "collapsed": true
   },
   "outputs": [],
   "source": [
    "dems"
   ]
  },
  {
   "cell_type": "markdown",
   "metadata": {},
   "source": [
    "### Lobby"
   ]
  },
  {
   "cell_type": "code",
   "execution_count": null,
   "metadata": {
    "collapsed": true
   },
   "outputs": [],
   "source": [
    "df_lobby = raw_lobbies[['lobbyists','id','lobbying_client.general_description','lobbying_client.name','lobbying_registrant.general_description','lobbying_registrant.name']].copy()"
   ]
  },
  {
   "cell_type": "code",
   "execution_count": null,
   "metadata": {
    "collapsed": true
   },
   "outputs": [],
   "source": [
    "df_senators = raw_senators.copy()\n",
    "df_senators['Name'] = df_senators['first_name'] + ' ' +  df_senators['last_name']"
   ]
  },
  {
   "cell_type": "code",
   "execution_count": null,
   "metadata": {
    "collapsed": true,
    "scrolled": false
   },
   "outputs": [],
   "source": [
    "def get_names(x):\n",
    "    m = re.findall(\"'name': '(?P<name>[^']+)'\",x)\n",
    "    return [a.title() for a in m]\n",
    "\n",
    "df_lobby['name'] = df_lobby['lobbyists'].apply(lambda x: get_names(x))\n",
    "df_lobby_expend = df_lobby.set_index('id')['name'].apply(pd.Series).stack().to_frame().reset_index()\n",
    "df_lobby_expend = df_lobby_expend.reset_index()\n",
    "df_lobby_expend = df_lobby_expend.rename(columns = {0:'Name'})\n",
    "df_lobby_expend = pd.merge(df_lobby_expend,df_lobby,on='id')\n",
    "df_lobby_expend = df_lobby_expend.drop('lobbyists',1)"
   ]
  },
  {
   "cell_type": "code",
   "execution_count": null,
   "metadata": {
    "collapsed": true
   },
   "outputs": [],
   "source": [
    "df_merge_lobby = pd.merge(df_lobby_expend,df_senators,on='Name')\n",
    "display(df_merge_lobby.head(3))\n",
    "print('Number of unique senators in lobbies: {}'.format(df_merge_lobby['Name'].unique().size))"
   ]
  },
  {
   "cell_type": "code",
   "execution_count": null,
   "metadata": {
    "collapsed": true
   },
   "outputs": [],
   "source": [
    "def draw_lobby(df,number):\n",
    "    df_temp = df.groupby('lobbying_client.name')['Name'].nunique().reset_index().sort_values('Name',ascending=False)\n",
    "    \n",
    "    plt.figure(figsize=(15,5))\n",
    "    plt.plot(range(df_temp['Name'].shape[0]), df_temp['Name'])\n",
    "    plt.xlabel('Lobby client')\n",
    "    plt.ylabel('Number of Senator')\n",
    "    plt.ylim(0,4)\n",
    "    plt.title('Number of distinct senators per lobby client')\n",
    "\n",
    "    plt.figure(figsize=(15,5))\n",
    "    df_temp[['Name']].plot.kde()\n",
    "    plt.xlabel('Number of Senator')\n",
    "    plt.title('Density of distinct senators per lobby client')\n",
    "    \n",
    "    df_temp = df_temp.iloc[:number]\n",
    "    \n",
    "    plt.figure(figsize=(15,5))\n",
    "    plt.bar(range(df_temp.shape[0]), df_temp['Name'], tick_label=df_temp['lobbying_client.name'])\n",
    "    plt.xticks(rotation=90)\n",
    "    plt.title('First {} companies with the most distinct senators'.format(number))\n",
    "    plt.ylabel('Number of Senator')\n",
    "    plt.show()\n",
    "    \n",
    "    df_temp = df.groupby('lobbying_client.name')['Name'].count().reset_index().sort_values('Name',ascending=False).iloc[:number]\n",
    "\n",
    "    plt.figure(figsize=(15,5))\n",
    "    plt.bar(range(df_temp.shape[0]), df_temp['Name'], tick_label=df_temp['lobbying_client.name'])\n",
    "    plt.xticks(rotation=90)\n",
    "    plt.title('First {} companies with the most senators'.format(number))\n",
    "    plt.ylabel('Number of Senator')\n",
    "    plt.show()\n",
    "    \n",
    "draw_lobby(df_merge_lobby ,20)"
   ]
  },
  {
   "cell_type": "code",
   "execution_count": null,
   "metadata": {
    "collapsed": true
   },
   "outputs": [],
   "source": []
  }
 ],
 "metadata": {
  "kernelspec": {
   "display_name": "Python 3",
   "language": "python",
   "name": "python3"
  },
  "language_info": {
   "codemirror_mode": {
    "name": "ipython",
    "version": 3
   },
   "file_extension": ".py",
   "mimetype": "text/x-python",
   "name": "python",
   "nbconvert_exporter": "python",
   "pygments_lexer": "ipython3",
   "version": "3.6.4"
  }
 },
 "nbformat": 4,
 "nbformat_minor": 2
}
